{
 "cells": [
  {
   "cell_type": "code",
   "execution_count": 1,
   "id": "f8730657",
   "metadata": {},
   "outputs": [],
   "source": [
    "import pandas as pd\n",
    "import numpy as np"
   ]
  },
  {
   "cell_type": "code",
   "execution_count": 2,
   "id": "2d2a7d57",
   "metadata": {},
   "outputs": [
    {
     "name": "stdout",
     "output_type": "stream",
     "text": [
      "Enter the name of train data file [(ex) boston_tr.csv]: boston_tr.csv\n",
      "Enter the name of test data file [(ex) boston_tst.csv]: boston_tst.csv\n"
     ]
    }
   ],
   "source": [
    "tr_data_name = input('Enter the name of train data file [(ex) boston_tr.csv]: ')\n",
    "tst_data_name = input('Enter the name of test data file [(ex) boston_tst.csv]: ')"
   ]
  },
  {
   "cell_type": "code",
   "execution_count": 3,
   "id": "0a8cad50",
   "metadata": {},
   "outputs": [],
   "source": [
    "tr_data = pd.read_csv(tr_data_name)\n",
    "tst_data = pd.read_csv(tst_data_name)"
   ]
  },
  {
   "cell_type": "code",
   "execution_count": 4,
   "id": "7807875a",
   "metadata": {},
   "outputs": [],
   "source": [
    "tr_y = tr_data[['medv']]\n",
    "tr_x = tr_data[['crim', 'zn', 'indus', 'chas', 'nox', 'rm', 'age', 'dis', 'tax', 'ptratio', 'black', 'lstat']]\n",
    "\n",
    "tst_y = tst_data[['medv']]\n",
    "tst_x = tst_data[['crim', 'zn', 'indus', 'chas', 'nox', 'rm', 'age', 'dis', 'tax', 'ptratio', 'black', 'lstat']]"
   ]
  },
  {
   "cell_type": "code",
   "execution_count": 5,
   "id": "320b2834",
   "metadata": {},
   "outputs": [],
   "source": [
    "tr_x['constant'] = 1\n",
    "tst_x['constant'] = 1"
   ]
  },
  {
   "cell_type": "code",
   "execution_count": 6,
   "id": "be1721ba",
   "metadata": {},
   "outputs": [],
   "source": [
    "tr_x = tr_x[['constant', 'crim', 'zn', 'indus', 'chas', 'nox', 'rm', 'age', 'dis', 'tax',\n",
    "             'ptratio', 'black', 'lstat']]\n",
    "tst_x = tst_x[['constant', 'crim', 'zn', 'indus', 'chas', 'nox', 'rm', 'age', 'dis', 'tax',\n",
    "             'ptratio', 'black', 'lstat']]"
   ]
  },
  {
   "cell_type": "code",
   "execution_count": 7,
   "id": "6616f36e",
   "metadata": {},
   "outputs": [],
   "source": [
    "xtx = np.dot(tr_x.T, tr_x)\n",
    "xtx_inv = np.linalg.inv(xtx)\n",
    "xtx_inv_xt = np.dot(xtx_inv, tr_x.T)\n",
    "beta_hat = np.dot(xtx_inv_xt, tr_y)"
   ]
  },
  {
   "cell_type": "code",
   "execution_count": 8,
   "id": "30280293",
   "metadata": {},
   "outputs": [],
   "source": [
    "tr_y_hat = np.dot(tr_x, beta_hat)\n",
    "tst_y_hat = np.dot(tst_x, beta_hat)"
   ]
  },
  {
   "cell_type": "code",
   "execution_count": 9,
   "id": "e9bb30c6",
   "metadata": {},
   "outputs": [],
   "source": [
    "def R_squre(y, y_hat):\n",
    "    SST = np.sum((y - y.mean()) ** 2)\n",
    "    SSR = np.sum((y - y_hat) ** 2)\n",
    "    return 1 - SSR/SST"
   ]
  },
  {
   "cell_type": "code",
   "execution_count": 10,
   "id": "00e89212",
   "metadata": {},
   "outputs": [],
   "source": [
    "def MAE(y, y_hat):\n",
    "    return np.sum(np.abs(y - y_hat)) / len(y)"
   ]
  },
  {
   "cell_type": "code",
   "execution_count": 11,
   "id": "672e1383",
   "metadata": {},
   "outputs": [],
   "source": [
    "def MAPE(y, y_hat):\n",
    "    return np.sum(np.abs((y - y_hat) / y)) / len(y)"
   ]
  },
  {
   "cell_type": "code",
   "execution_count": 12,
   "id": "ea4ce5d5",
   "metadata": {},
   "outputs": [],
   "source": [
    "def MSE(y, y_hat):\n",
    "    return np.sum((y - y_hat) ** 2) / len(y)"
   ]
  },
  {
   "cell_type": "code",
   "execution_count": 13,
   "id": "81383346",
   "metadata": {},
   "outputs": [],
   "source": [
    "def RMSE(y, y_hat):\n",
    "    return np.sqrt(np.sum((y - y_hat) ** 2) / len(y))"
   ]
  },
  {
   "cell_type": "code",
   "execution_count": 38,
   "id": "21eb06e9",
   "metadata": {},
   "outputs": [
    {
     "data": {
      "text/plain": [
       "medv    0.7648\n",
       "dtype: float64"
      ]
     },
     "execution_count": 38,
     "metadata": {},
     "output_type": "execute_result"
    }
   ],
   "source": [
    "round(R_squre(tr_y, tr_y_hat), 4)"
   ]
  },
  {
   "cell_type": "code",
   "execution_count": 39,
   "id": "6836d40c",
   "metadata": {},
   "outputs": [
    {
     "data": {
      "text/plain": [
       "medv    2.7511\n",
       "dtype: float64"
      ]
     },
     "execution_count": 39,
     "metadata": {},
     "output_type": "execute_result"
    }
   ],
   "source": [
    "round(MAE(tr_y, tr_y_hat), 4)"
   ]
  },
  {
   "cell_type": "code",
   "execution_count": 40,
   "id": "f4b7f958",
   "metadata": {},
   "outputs": [
    {
     "data": {
      "text/plain": [
       "medv    0.1433\n",
       "dtype: float64"
      ]
     },
     "execution_count": 40,
     "metadata": {},
     "output_type": "execute_result"
    }
   ],
   "source": [
    "round(MAPE(tr_y, tr_y_hat), 4)"
   ]
  },
  {
   "cell_type": "code",
   "execution_count": 42,
   "id": "e99a242e",
   "metadata": {},
   "outputs": [
    {
     "data": {
      "text/plain": [
       "medv    3.7427\n",
       "dtype: float64"
      ]
     },
     "execution_count": 42,
     "metadata": {},
     "output_type": "execute_result"
    }
   ],
   "source": [
    "round(RMSE(tr_y, tr_y_hat), 4)"
   ]
  },
  {
   "cell_type": "code",
   "execution_count": null,
   "id": "93f92e55",
   "metadata": {},
   "outputs": [],
   "source": []
  },
  {
   "cell_type": "code",
   "execution_count": 43,
   "id": "2a1b7ff2",
   "metadata": {},
   "outputs": [
    {
     "data": {
      "text/plain": [
       "medv    0.7636\n",
       "dtype: float64"
      ]
     },
     "execution_count": 43,
     "metadata": {},
     "output_type": "execute_result"
    }
   ],
   "source": [
    "round(R_squre(tst_y, tst_y_hat), 4)"
   ]
  },
  {
   "cell_type": "code",
   "execution_count": 44,
   "id": "3d397764",
   "metadata": {},
   "outputs": [
    {
     "data": {
      "text/plain": [
       "medv    2.9048\n",
       "dtype: float64"
      ]
     },
     "execution_count": 44,
     "metadata": {},
     "output_type": "execute_result"
    }
   ],
   "source": [
    "round(MAE(tst_y, tst_y_hat), 4)"
   ]
  },
  {
   "cell_type": "code",
   "execution_count": 45,
   "id": "2c78e956",
   "metadata": {},
   "outputs": [
    {
     "data": {
      "text/plain": [
       "medv    0.1577\n",
       "dtype: float64"
      ]
     },
     "execution_count": 45,
     "metadata": {},
     "output_type": "execute_result"
    }
   ],
   "source": [
    "round(MAPE(tst_y, tst_y_hat), 4)"
   ]
  },
  {
   "cell_type": "code",
   "execution_count": 46,
   "id": "efb67cf7",
   "metadata": {},
   "outputs": [
    {
     "data": {
      "text/plain": [
       "medv    3.972\n",
       "dtype: float64"
      ]
     },
     "execution_count": 46,
     "metadata": {},
     "output_type": "execute_result"
    }
   ],
   "source": [
    "round(RMSE(tst_y, tst_y_hat), 4)"
   ]
  },
  {
   "cell_type": "code",
   "execution_count": null,
   "id": "43d72cb3",
   "metadata": {},
   "outputs": [],
   "source": []
  },
  {
   "cell_type": "code",
   "execution_count": 23,
   "id": "49645c04",
   "metadata": {},
   "outputs": [],
   "source": [
    "from sklearn.linear_model import LinearRegression\n",
    "from sklearn.metrics import r2_score as r2\n",
    "from sklearn.metrics import mean_absolute_error as mae\n",
    "from sklearn.metrics import mean_absolute_percentage_error as mape\n",
    "from sklearn.metrics import mean_squared_error as mse"
   ]
  },
  {
   "cell_type": "code",
   "execution_count": 24,
   "id": "5253f103",
   "metadata": {},
   "outputs": [],
   "source": [
    "lr = LinearRegression(fit_intercept=True)"
   ]
  },
  {
   "cell_type": "code",
   "execution_count": 25,
   "id": "18d1b579",
   "metadata": {},
   "outputs": [
    {
     "data": {
      "text/plain": [
       "LinearRegression()"
      ]
     },
     "execution_count": 25,
     "metadata": {},
     "output_type": "execute_result"
    }
   ],
   "source": [
    "lr.fit(tr_x, tr_y)"
   ]
  },
  {
   "cell_type": "code",
   "execution_count": 26,
   "id": "e87d5803",
   "metadata": {},
   "outputs": [
    {
     "data": {
      "text/plain": [
       "array([[ 0.00000000e+00, -7.36607290e-02,  3.00350818e-02,\n",
       "        -7.52955183e-02,  1.10907472e+00, -5.27482987e+00,\n",
       "         4.00084801e+00, -3.62645416e-02, -1.07955481e+00,\n",
       "        -4.95966749e-03, -6.77462123e-01,  6.92366874e-03,\n",
       "        -3.65028561e-01]])"
      ]
     },
     "execution_count": 26,
     "metadata": {},
     "output_type": "execute_result"
    }
   ],
   "source": [
    "lr.coef_"
   ]
  },
  {
   "cell_type": "code",
   "execution_count": 27,
   "id": "2088a24d",
   "metadata": {},
   "outputs": [
    {
     "data": {
      "text/plain": [
       "0.7636"
      ]
     },
     "execution_count": 27,
     "metadata": {},
     "output_type": "execute_result"
    }
   ],
   "source": [
    "round(r2(tst_y, lr.predict(tst_x)), 4)"
   ]
  },
  {
   "cell_type": "code",
   "execution_count": 35,
   "id": "1ded3037",
   "metadata": {},
   "outputs": [
    {
     "data": {
      "text/plain": [
       "2.9048"
      ]
     },
     "execution_count": 35,
     "metadata": {},
     "output_type": "execute_result"
    }
   ],
   "source": [
    "round(mae(tst_y, lr.predict(tst_x)), 4)"
   ]
  },
  {
   "cell_type": "code",
   "execution_count": 36,
   "id": "46726786",
   "metadata": {},
   "outputs": [
    {
     "data": {
      "text/plain": [
       "0.1577"
      ]
     },
     "execution_count": 36,
     "metadata": {},
     "output_type": "execute_result"
    }
   ],
   "source": [
    "round(mape(tst_y, lr.predict(tst_x)), 4)"
   ]
  },
  {
   "cell_type": "code",
   "execution_count": 37,
   "id": "32b281c2",
   "metadata": {},
   "outputs": [
    {
     "data": {
      "text/plain": [
       "3.972"
      ]
     },
     "execution_count": 37,
     "metadata": {},
     "output_type": "execute_result"
    }
   ],
   "source": [
    "round(np.sqrt(mse(tst_y, lr.predict(tst_x))), 4)"
   ]
  },
  {
   "cell_type": "code",
   "execution_count": null,
   "id": "af919323",
   "metadata": {},
   "outputs": [],
   "source": []
  },
  {
   "cell_type": "code",
   "execution_count": 31,
   "id": "ba19b974",
   "metadata": {},
   "outputs": [],
   "source": [
    "text = f'''coefficients\n",
    "------------\n",
    "constant: {beta_hat[0][0]:.3f}\n",
    "'''"
   ]
  },
  {
   "cell_type": "code",
   "execution_count": 32,
   "id": "0133bf4f",
   "metadata": {},
   "outputs": [],
   "source": [
    "for idx, val in enumerate(beta_hat[1:]):\n",
    "    text += f'Beta{idx+1}: {val[0]:.3f}\\n'"
   ]
  },
  {
   "cell_type": "code",
   "execution_count": 33,
   "id": "e840b62a",
   "metadata": {},
   "outputs": [],
   "source": [
    "text += f'''\n",
    "Model Summary\n",
    "-------------\n",
    "R-Square = {R_squre(tr_y, tr_y_hat)[0]:.4f}\n",
    "MSE = {MSE(tr_y, tr_y_hat)[0]:.4f}\n",
    "\n",
    "Prediction Performance\n",
    "----------------------\n",
    "Predictive R-Square = {R_squre(tst_y, tst_y_hat)[0]:.4f}\n",
    "MAE = {MAE(tst_y, tst_y_hat)[0]:.4f}\n",
    "MAPE = {MAPE(tst_y, tst_y_hat)[0]:.4f}\n",
    "RMSE = {RMSE(tst_y, tst_y_hat)[0]:.4f}\n",
    "'''"
   ]
  },
  {
   "cell_type": "code",
   "execution_count": 34,
   "id": "fbc6aa4b",
   "metadata": {},
   "outputs": [],
   "source": [
    "file = open('result.txt', \"w\") \n",
    "file.write(text)\n",
    "file.close()"
   ]
  },
  {
   "cell_type": "code",
   "execution_count": null,
   "id": "2b5d5e67",
   "metadata": {},
   "outputs": [],
   "source": []
  }
 ],
 "metadata": {
  "kernelspec": {
   "display_name": "Python 3 (ipykernel)",
   "language": "python",
   "name": "python3"
  },
  "language_info": {
   "codemirror_mode": {
    "name": "ipython",
    "version": 3
   },
   "file_extension": ".py",
   "mimetype": "text/x-python",
   "name": "python",
   "nbconvert_exporter": "python",
   "pygments_lexer": "ipython3",
   "version": "3.9.7"
  }
 },
 "nbformat": 4,
 "nbformat_minor": 5
}

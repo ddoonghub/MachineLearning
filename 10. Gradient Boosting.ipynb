{
 "cells": [
  {
   "cell_type": "code",
   "execution_count": 9,
   "id": "a06a523d",
   "metadata": {},
   "outputs": [],
   "source": [
    "import pandas as pd \n",
    "import numpy as np"
   ]
  },
  {
   "cell_type": "code",
   "execution_count": 10,
   "id": "f37418bf",
   "metadata": {},
   "outputs": [],
   "source": [
    "from sklearn.tree import DecisionTreeClassifier,DecisionTreeRegressor\n",
    "from sklearn.metrics import confusion_matrix"
   ]
  },
  {
   "cell_type": "code",
   "execution_count": 11,
   "id": "b13e8ea4",
   "metadata": {},
   "outputs": [],
   "source": [
    "def read_data():\n",
    "    trdata_name = input('Enter the name of train data file [(ex) pid.dat]: ')\n",
    "    tstdata_name = input('Enter the name of test data file [(ex) pidtest.dat]: ')\n",
    "    coding_fm = int(input(\"Select the data coding format(1 = 'a b c' or 2 = 'a,b,c'): \"))\n",
    "    separator_fm = {coding_fm == 1 : ' '}.get(True, \",\")\n",
    "    res_pos = int(input('Enter the column position of the response variable : [from 1 to p]:')) - 1\n",
    "    header = input('Does the data have column header? (y/n):')\n",
    "    \n",
    "    if header == 'y':\n",
    "        trdata = pd.read_csv(trdata_name, sep=separator_fm)\n",
    "        trres_col = trdata.columns[res_pos]\n",
    "        tr_response = trdata[trres_col]\n",
    "        tr_feature = trdata.drop(trres_col, axis = 1)\n",
    "        \n",
    "        tstdata = pd.read_csv(tstdata_name, sep=separator_fm)\n",
    "        tstres_col = tstdata.columns[res_pos]\n",
    "        tst_response = tstdata[tstres_col]\n",
    "        tst_feature = tstdata.drop(tstres_col, axis = 1)\n",
    "    \n",
    "    else:\n",
    "        trdata = pd.read_csv(trdata_name, sep=separator_fm, header=None)\n",
    "        tr_response = trdata[res_pos]\n",
    "        tr_feature = trdata.drop(res_pos, axis = 1)\n",
    "        \n",
    "        tstdata = pd.read_csv(tstdata_name, sep=separator_fm, header=None)\n",
    "        tst_response = tstdata[res_pos]\n",
    "        tst_feature = tstdata.drop(res_pos, axis = 1)\n",
    "        \n",
    "    out_name = input('Enter the output file name to export [(ex) result.txt]:')\n",
    "    return tr_feature, tr_response, tst_feature, tst_response, out_name"
   ]
  },
  {
   "cell_type": "code",
   "execution_count": 12,
   "id": "cdef0a8b",
   "metadata": {},
   "outputs": [],
   "source": [
    "def train_GB(tr_X, tr_y, B=101, lr=0.1):\n",
    "    tree_dict = dict()\n",
    "    y_pred_cumsum = 0\n",
    "    for i in range(1,B+1):\n",
    "        if i==1:\n",
    "            tree_dict[f'Tree{i}'] = DecisionTreeClassifier(max_depth=3, random_state = 19960314)\n",
    "            tree_dict[f'Tree{i}'].fit(tr_X, tr_y)\n",
    "            y_pred = tree_dict[f'Tree{i}'].predict_proba(tr_X)\n",
    "            y_pred_cumsum += y_pred[:,1]\n",
    "        else:\n",
    "            tree_dict[f'Tree{i}'] = DecisionTreeRegressor(max_depth=3, random_state = 19960314)\n",
    "            tree_dict[f'Tree{i}'].fit(tr_X, tr_y-y_pred_cumsum)\n",
    "            y_pred = tree_dict[f'Tree{i}'].predict(tr_X)\n",
    "            y_pred_cumsum += lr*y_pred\n",
    "    return tree_dict"
   ]
  },
  {
   "cell_type": "code",
   "execution_count": 13,
   "id": "cc1bf52b",
   "metadata": {},
   "outputs": [],
   "source": [
    "def test_GB(trained_tree_dict, X_test, threshold=0.5, lr=0.1):\n",
    "    y_pred_cumsum = 0\n",
    "    for tree_idx, tree in enumerate(trained_tree_dict.values()):\n",
    "        if tree_idx == 0:\n",
    "            pred = tree.predict_proba(X_test)[:,1]\n",
    "        else:\n",
    "            pred = lr * tree.predict(X_test)\n",
    "        \n",
    "        y_pred_cumsum += pred\n",
    "    \n",
    "    y_pred_cumsum[y_pred_cumsum>threshold] = 1\n",
    "    y_pred_cumsum[y_pred_cumsum<=threshold] = 0\n",
    "    return y_pred_cumsum"
   ]
  },
  {
   "cell_type": "code",
   "execution_count": 14,
   "id": "c325324b",
   "metadata": {},
   "outputs": [],
   "source": [
    "tr_x, tr_y, tst_x, tst_y, out_name = read_data()\n"
   ]
  },
  {
   "cell_type": "code",
   "execution_count": 15,
   "id": "5c29a3a9",
   "metadata": {},
   "outputs": [],
   "source": [
    "tr_y = tr_y.replace({2:1, 1:0})\n",
    "tst_y = tst_y.replace({2:1, 1:0})"
   ]
  },
  {
   "cell_type": "code",
   "execution_count": 16,
   "id": "b9122d99",
   "metadata": {},
   "outputs": [],
   "source": [
    "tree_dict = train_GB(tr_x, tr_y, B=101, lr=0.1)\n",
    "y_test_pred_cumsum = test_GB(tree_dict, tst_x, threshold=0.5, lr=0.1)"
   ]
  },
  {
   "cell_type": "code",
   "execution_count": 17,
   "id": "003289db",
   "metadata": {},
   "outputs": [],
   "source": [
    "text = f'''Confusion Matrix (Gradient Boosting)\n",
    "------------------------------------\n",
    "{confusion_matrix(tst_y, y_test_pred_cumsum)}\n",
    "\n",
    "Model Summary (Gradient Boosting)\n",
    "---------------------------------\n",
    "overall accuracy = {np.mean(y_test_pred_cumsum == tst_y):.3f}\n",
    "'''"
   ]
  },
  {
   "cell_type": "code",
   "execution_count": 18,
   "id": "19a33806",
   "metadata": {},
   "outputs": [],
   "source": [
    "file = open(out_name, \"w\") \n",
    "file.write(text)\n",
    "file.close()"
   ]
  },
  {
   "cell_type": "code",
   "execution_count": null,
   "id": "6dbd6e8d",
   "metadata": {},
   "outputs": [],
   "source": []
  }
 ],
 "metadata": {
  "kernelspec": {
   "display_name": "Python 3 (ipykernel)",
   "language": "python",
   "name": "python3"
  },
  "language_info": {
   "codemirror_mode": {
    "name": "ipython",
    "version": 3
   },
   "file_extension": ".py",
   "mimetype": "text/x-python",
   "name": "python",
   "nbconvert_exporter": "python",
   "pygments_lexer": "ipython3",
   "version": "3.9.7"
  },
  "vscode": {
   "interpreter": {
    "hash": "40d3a090f54c6569ab1632332b64b2c03c39dcf918b08424e98f38b5ae0af88f"
   }
  }
 },
 "nbformat": 4,
 "nbformat_minor": 5
}

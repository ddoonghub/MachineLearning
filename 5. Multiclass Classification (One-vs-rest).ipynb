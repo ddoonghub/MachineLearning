{
 "cells": [
  {
   "cell_type": "code",
   "execution_count": 1,
   "id": "5b2fe61b",
   "metadata": {},
   "outputs": [],
   "source": [
    "import numpy as np\n",
    "import pandas as pd\n",
    "import statsmodels.api as sm\n",
    "from sklearn.metrics import confusion_matrix"
   ]
  },
  {
   "cell_type": "code",
   "execution_count": null,
   "id": "e2be5e56",
   "metadata": {},
   "outputs": [],
   "source": []
  },
  {
   "cell_type": "markdown",
   "id": "1200fc3b",
   "metadata": {},
   "source": [
    "## Read Data"
   ]
  },
  {
   "cell_type": "code",
   "execution_count": 2,
   "id": "3970482d",
   "metadata": {},
   "outputs": [],
   "source": [
    "def read_data():\n",
    "    trdata_name = input('Enter the name of train data file [(ex) veh.dat]: ')\n",
    "    tstdata_name = input('Enter the name of test data file [(ex) vehtest.dat]: ')\n",
    "    coding_fm = int(input(\"Select the data coding format(1 = 'a b c' or 2 = 'a,b,c'): \"))\n",
    "    separator_fm = {coding_fm == 1 : ' '}.get(True, \",\")\n",
    "    res_pos = int(input('Enter the column position of the response variable : [from 1 to p]:')) - 1\n",
    "    header = input('Does the data have column header? (y/n):')\n",
    "    \n",
    "    if header == 'y':\n",
    "        trdata = pd.read_csv(trdata_name, sep=separator_fm)\n",
    "        trres_col = trdata.columns[res_pos]\n",
    "        tr_response = trdata[res_col]\n",
    "        tr_feature = trdata.drop(res_col, axis = 1)\n",
    "        \n",
    "        tstdata = pd.read_csv(tstdata_name, sep=separator_fm)\n",
    "        tstres_col = tstdata.columns[res_pos]\n",
    "        tst_response = tstdata[tstres_col]\n",
    "        tst_feature = tstdata.drop(tstres_col, axis = 1)\n",
    "    \n",
    "    else:\n",
    "        trdata = pd.read_csv(trdata_name, sep=separator_fm, header=None)\n",
    "        tr_response = trdata[res_pos]\n",
    "        tr_feature = trdata.drop(res_pos, axis = 1)\n",
    "        \n",
    "        tstdata = pd.read_csv(tstdata_name, sep=separator_fm, header=None)\n",
    "        tst_response = tstdata[res_pos]\n",
    "        tst_feature = tstdata.drop(res_pos, axis = 1)\n",
    "        \n",
    "    out_name = input('Enter the output file name to export [(ex) result.txt]:')\n",
    "    return tr_feature, tr_response, tst_feature, tst_response, out_name"
   ]
  },
  {
   "cell_type": "code",
   "execution_count": 3,
   "id": "97adfe45",
   "metadata": {},
   "outputs": [
    {
     "name": "stdout",
     "output_type": "stream",
     "text": [
      "Enter the name of train data file [(ex) veh.dat]: veh.dat\n",
      "Enter the name of test data file [(ex) vehtest.dat]: vehtest.dat\n",
      "Select the data coding format(1 = 'a b c' or 2 = 'a,b,c'): 2\n",
      "Enter the column position of the response variable : [from 1 to p]:19\n",
      "Does the data have column header? (y/n):n\n",
      "Enter the output file name to export [(ex) result.txt]:result.txt\n"
     ]
    }
   ],
   "source": [
    "tr_x, tr_y, tst_x, tst_y, out_name = read_data()"
   ]
  },
  {
   "cell_type": "code",
   "execution_count": null,
   "id": "ac2ee9cb",
   "metadata": {},
   "outputs": [],
   "source": []
  },
  {
   "cell_type": "markdown",
   "id": "e5262b82",
   "metadata": {},
   "source": [
    "## Multiclass Logistic Regression"
   ]
  },
  {
   "cell_type": "code",
   "execution_count": 4,
   "id": "4d14f4fe",
   "metadata": {},
   "outputs": [],
   "source": [
    "class MultiLogisticReg:\n",
    "    def __init__(self):\n",
    "        None\n",
    "        \n",
    "    def one_hot_encoding(self, y):\n",
    "        self.y_dum = pd.get_dummies(y)\n",
    "        \n",
    "    def fit(self, x, y):\n",
    "        xc = sm.add_constant(x)\n",
    "        self.lr = sm.Logit(y, xc).fit()\n",
    "        \n",
    "    def predict(self, x):\n",
    "        xc = sm.add_constant(x)\n",
    "        pred = self.lr.predict(xc)\n",
    "        return pred\n",
    "    \n",
    "    def accuracy(self, y, pred_y):\n",
    "        acc = np.mean(pred_y == y.values)\n",
    "        return acc"
   ]
  },
  {
   "cell_type": "code",
   "execution_count": null,
   "id": "503d6473",
   "metadata": {},
   "outputs": [],
   "source": []
  },
  {
   "cell_type": "markdown",
   "id": "299ab4be",
   "metadata": {},
   "source": [
    "## Train"
   ]
  },
  {
   "cell_type": "code",
   "execution_count": 5,
   "id": "38658786",
   "metadata": {},
   "outputs": [],
   "source": [
    "mlr = MultiLogisticReg()"
   ]
  },
  {
   "cell_type": "code",
   "execution_count": 6,
   "id": "9069f120",
   "metadata": {},
   "outputs": [
    {
     "name": "stdout",
     "output_type": "stream",
     "text": [
      "Optimization terminated successfully.\n",
      "         Current function value: inf\n",
      "         Iterations 8\n",
      "Optimization terminated successfully.\n",
      "         Current function value: inf\n",
      "         Iterations 9\n",
      "Optimization terminated successfully.\n",
      "         Current function value: inf\n",
      "         Iterations 13\n",
      "Optimization terminated successfully.\n",
      "         Current function value: inf\n",
      "         Iterations 16\n"
     ]
    },
    {
     "name": "stderr",
     "output_type": "stream",
     "text": [
      "/opt/anaconda3/lib/python3.9/site-packages/statsmodels/tsa/tsatools.py:142: FutureWarning: In a future version of pandas all arguments of concat except for the argument 'objs' will be keyword-only\n",
      "  x = pd.concat(x[::order], 1)\n",
      "/opt/anaconda3/lib/python3.9/site-packages/statsmodels/discrete/discrete_model.py:1810: RuntimeWarning: overflow encountered in exp\n",
      "  return 1/(1+np.exp(-X))\n",
      "/opt/anaconda3/lib/python3.9/site-packages/statsmodels/discrete/discrete_model.py:1863: RuntimeWarning: divide by zero encountered in log\n",
      "  return np.sum(np.log(self.cdf(q*np.dot(X,params))))\n"
     ]
    }
   ],
   "source": [
    "tr_pred_lst = []\n",
    "tst_pred_lst = []\n",
    "class_num = tr_y.nunique()\n",
    "\n",
    "for i in range(class_num):\n",
    "    mlr.one_hot_encoding(tr_y)\n",
    "    y_ovr = mlr.y_dum.iloc[:,i]\n",
    "    mlr.fit(tr_x, y_ovr)\n",
    "\n",
    "    tr_pred = mlr.predict(tr_x)\n",
    "    tr_pred_lst.append(tr_pred)\n",
    "    \n",
    "    tst_pred = mlr.predict(tst_x)\n",
    "    tst_pred_lst.append(tst_pred)\n",
    "\n",
    "tr_y_pred = np.argmax(tr_pred_lst, axis=0) + 1\n",
    "tr_y_pred_per = tr_pred_lst / np.sum(tr_pred_lst, axis=0)\n",
    "\n",
    "tst_y_pred = np.argmax(tst_pred_lst, axis=0) + 1\n",
    "tst_y_pred_per = tst_pred_lst / np.sum(tst_pred_lst, axis=0)\n",
    "\n",
    "tr_acc = mlr.accuracy(tr_y, tr_y_pred)\n",
    "tst_acc = mlr.accuracy(tst_y, tst_y_pred)"
   ]
  },
  {
   "cell_type": "code",
   "execution_count": null,
   "id": "f0faff66",
   "metadata": {},
   "outputs": [],
   "source": []
  },
  {
   "cell_type": "markdown",
   "id": "13f74d17",
   "metadata": {},
   "source": [
    "## Output"
   ]
  },
  {
   "cell_type": "code",
   "execution_count": 7,
   "id": "1af37826",
   "metadata": {},
   "outputs": [],
   "source": [
    "text = f'''ID, Actual class, Class 1, Class 2, Class 3, Class 4, Final prediction\n",
    "----------------------------------------------------------------------\n",
    "'''"
   ]
  },
  {
   "cell_type": "code",
   "execution_count": 8,
   "id": "bc2110a3",
   "metadata": {},
   "outputs": [],
   "source": [
    "for i in range(3):\n",
    "    text += f'{i+1}, {tst_y[i]}, {np.round_(tst_y_pred_per[:, i], 1)}, {tst_y_pred[i]}\\n'"
   ]
  },
  {
   "cell_type": "code",
   "execution_count": 9,
   "id": "b32d8ebe",
   "metadata": {},
   "outputs": [],
   "source": [
    "text += f'(skip: 처음 3줄과 마지막 3줄만 출력시킴)\\n'"
   ]
  },
  {
   "cell_type": "code",
   "execution_count": 10,
   "id": "712ce339",
   "metadata": {},
   "outputs": [],
   "source": [
    "for i in range(len(tst_y)-3, len(tst_y)):\n",
    "    text += f'{i+1}, {tst_y[i]}, {np.round_(tst_y_pred_per[:, i], 1)}, {tst_y_pred[i]}\\n'"
   ]
  },
  {
   "cell_type": "code",
   "execution_count": 11,
   "id": "6d43f007",
   "metadata": {},
   "outputs": [],
   "source": [
    "text += f'''\n",
    "Confusion Matrix (Test)\n",
    "-----------------------\n",
    "{confusion_matrix(tst_y.values, tst_y_pred)}\n",
    "\n",
    "Model Summary (Test)\n",
    "--------------------\n",
    "Overall accuracy = {tst_acc:.3f}\n",
    "'''"
   ]
  },
  {
   "cell_type": "code",
   "execution_count": null,
   "id": "196e3503",
   "metadata": {},
   "outputs": [],
   "source": []
  },
  {
   "cell_type": "code",
   "execution_count": 12,
   "id": "ae08743d",
   "metadata": {},
   "outputs": [],
   "source": [
    "file = open(out_name, \"w\") \n",
    "file.write(text)\n",
    "file.close()"
   ]
  },
  {
   "cell_type": "code",
   "execution_count": null,
   "id": "5b91afc3",
   "metadata": {},
   "outputs": [],
   "source": []
  },
  {
   "cell_type": "code",
   "execution_count": null,
   "id": "9d392c2b",
   "metadata": {},
   "outputs": [],
   "source": []
  },
  {
   "cell_type": "code",
   "execution_count": null,
   "id": "6d051779",
   "metadata": {},
   "outputs": [],
   "source": []
  }
 ],
 "metadata": {
  "kernelspec": {
   "display_name": "Python 3 (ipykernel)",
   "language": "python",
   "name": "python3"
  },
  "language_info": {
   "codemirror_mode": {
    "name": "ipython",
    "version": 3
   },
   "file_extension": ".py",
   "mimetype": "text/x-python",
   "name": "python",
   "nbconvert_exporter": "python",
   "pygments_lexer": "ipython3",
   "version": "3.9.7"
  }
 },
 "nbformat": 4,
 "nbformat_minor": 5
}

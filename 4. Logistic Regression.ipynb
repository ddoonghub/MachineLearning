{
 "cells": [
  {
   "cell_type": "code",
   "execution_count": 1,
   "id": "56b3df61",
   "metadata": {},
   "outputs": [],
   "source": [
    "import numpy as np\n",
    "import pandas as pd"
   ]
  },
  {
   "cell_type": "code",
   "execution_count": null,
   "id": "a7b40ce1",
   "metadata": {},
   "outputs": [],
   "source": []
  },
  {
   "cell_type": "markdown",
   "id": "84eaffd3",
   "metadata": {},
   "source": [
    "## 데이터 읽기"
   ]
  },
  {
   "cell_type": "code",
   "execution_count": 2,
   "id": "0623c148",
   "metadata": {},
   "outputs": [],
   "source": [
    "def read_data():\n",
    "    data_name = input('Enter the name of data file [(ex) sample1.csv]: ')\n",
    "    coding_fm = int(input(\"Select the data coding format(1 = 'a b c' or 2 = 'a,b,c'): \"))\n",
    "    separator_fm = {coding_fm == 1 : ' '}.get(True, \",\")\n",
    "    res_pos = int(input('Enter the column position of the response variable : [from 1 to p]:')) - 1\n",
    "    header = input('Does the data have column header? (y/n):')\n",
    "    \n",
    "    if header == 'y':\n",
    "        trdata = pd.read_csv(data_name, sep=separator_fm)\n",
    "        res_col = trdata.columns[res_pos]\n",
    "        tr_response = trdata[res_col]\n",
    "        tr_feature = trdata.drop(res_col, axis = 1)\n",
    "    \n",
    "    else:\n",
    "        trdata = pd.read_csv(data_name, sep=separator_fm, header=None)\n",
    "        tr_response = trdata[res_pos]\n",
    "        tr_feature = trdata.drop(res_pos, axis = 1)\n",
    "\n",
    "    out_name = input('Enter the output file name to export [(ex) result.txt]:')\n",
    "    return tr_feature, tr_response, out_name"
   ]
  },
  {
   "cell_type": "code",
   "execution_count": 3,
   "id": "889021e5",
   "metadata": {},
   "outputs": [
    {
     "name": "stdout",
     "output_type": "stream",
     "text": [
      "Enter the name of data file [(ex) sample1.csv]: sample1.csv\n",
      "Select the data coding format(1 = 'a b c' or 2 = 'a,b,c'): 2\n",
      "Enter the column position of the response variable : [from 1 to p]:3\n",
      "Does the data have column header? (y/n):y\n",
      "Enter the output file name to export [(ex) result.txt]:result.txt\n"
     ]
    }
   ],
   "source": [
    "tr_x, tr_y, out_name = read_data()"
   ]
  },
  {
   "cell_type": "code",
   "execution_count": 4,
   "id": "d07bfb4d",
   "metadata": {},
   "outputs": [],
   "source": [
    "ones = np.ones((tr_x.shape[0], 1))\n",
    "tr_xc = np.concatenate([ones, tr_x], axis=1)"
   ]
  },
  {
   "cell_type": "code",
   "execution_count": null,
   "id": "eb777374",
   "metadata": {},
   "outputs": [],
   "source": []
  },
  {
   "cell_type": "markdown",
   "id": "b3a4acb5",
   "metadata": {},
   "source": [
    "## Gradient Descent"
   ]
  },
  {
   "cell_type": "code",
   "execution_count": 5,
   "id": "43ba7781",
   "metadata": {},
   "outputs": [],
   "source": [
    "class GradientDescent:\n",
    "    def __init__(self):\n",
    "        self.beta = np.random.rand(tr_xc.shape[1], 1)\n",
    "    \n",
    "    def forward(self, x):\n",
    "        reg = np.dot(x, self.beta)\n",
    "        exp_reg = np.exp(reg)\n",
    "        self.y_hat = exp_reg / (1+exp_reg)\n",
    "    \n",
    "    def gradient(self, x, y):\n",
    "        self.grad = np.mean((self.y_hat - y.values.reshape(-1,1)) * x, axis=0).reshape(-1,1)\n",
    "        return self.grad\n",
    "    \n",
    "    def train(self, x, y, epoch, lr=0.01):\n",
    "        for i in range(epoch):\n",
    "            self.forward(x)\n",
    "            self.gradient(x, y)\n",
    "            self.beta -= lr * self.grad\n",
    "        return self.beta"
   ]
  },
  {
   "cell_type": "code",
   "execution_count": 6,
   "id": "785769a4",
   "metadata": {},
   "outputs": [],
   "source": [
    "gd = GradientDescent()"
   ]
  },
  {
   "cell_type": "code",
   "execution_count": 7,
   "id": "cf8d1775",
   "metadata": {},
   "outputs": [],
   "source": [
    "beta = gd.train(tr_xc, tr_y, 100000)"
   ]
  },
  {
   "cell_type": "code",
   "execution_count": 8,
   "id": "799ac939",
   "metadata": {},
   "outputs": [
    {
     "data": {
      "text/plain": [
       "array([[0.16829923],\n",
       "       [2.82177564],\n",
       "       [2.81929547]])"
      ]
     },
     "execution_count": 8,
     "metadata": {},
     "output_type": "execute_result"
    }
   ],
   "source": [
    "beta"
   ]
  },
  {
   "cell_type": "code",
   "execution_count": null,
   "id": "4e039843",
   "metadata": {},
   "outputs": [],
   "source": []
  },
  {
   "cell_type": "markdown",
   "id": "c08e3844",
   "metadata": {},
   "source": [
    "## Statmodels"
   ]
  },
  {
   "cell_type": "code",
   "execution_count": 9,
   "id": "ced80fc2",
   "metadata": {},
   "outputs": [],
   "source": [
    "import statsmodels.api as sm"
   ]
  },
  {
   "cell_type": "code",
   "execution_count": 10,
   "id": "7d39d8fa",
   "metadata": {},
   "outputs": [],
   "source": [
    "lr = sm.Logit(tr_y ,tr_xc)"
   ]
  },
  {
   "cell_type": "code",
   "execution_count": 11,
   "id": "45ab0f0a",
   "metadata": {},
   "outputs": [
    {
     "name": "stdout",
     "output_type": "stream",
     "text": [
      "Optimization terminated successfully.\n",
      "         Current function value: 0.283800\n",
      "         Iterations 8\n"
     ]
    }
   ],
   "source": [
    "lr_fit = lr.fit()"
   ]
  },
  {
   "cell_type": "code",
   "execution_count": 12,
   "id": "ce5bd2f1",
   "metadata": {},
   "outputs": [],
   "source": [
    "lr_rst = lr_fit.params"
   ]
  },
  {
   "cell_type": "code",
   "execution_count": 13,
   "id": "b8da60bf",
   "metadata": {},
   "outputs": [
    {
     "data": {
      "text/plain": [
       "const    0.168299\n",
       "x1       2.821777\n",
       "x2       2.819296\n",
       "dtype: float64"
      ]
     },
     "execution_count": 13,
     "metadata": {},
     "output_type": "execute_result"
    }
   ],
   "source": [
    "lr_rst"
   ]
  },
  {
   "cell_type": "code",
   "execution_count": null,
   "id": "edfc8b41",
   "metadata": {},
   "outputs": [],
   "source": []
  },
  {
   "cell_type": "markdown",
   "id": "7ba2e97e",
   "metadata": {},
   "source": [
    "## Output"
   ]
  },
  {
   "cell_type": "code",
   "execution_count": 14,
   "id": "bda52b7a",
   "metadata": {},
   "outputs": [],
   "source": [
    "text = f'''Coefficients by Gradient Descent Method\n",
    "---------------------------------------\n",
    "Constant: {beta[0, 0]:.3f}\n",
    "'''"
   ]
  },
  {
   "cell_type": "code",
   "execution_count": 15,
   "id": "e88c7aae",
   "metadata": {},
   "outputs": [],
   "source": [
    "for idx, val in enumerate(beta[1:]):\n",
    "    text += f'Beta{idx+1}: {val[0]:.3f}\\n'"
   ]
  },
  {
   "cell_type": "code",
   "execution_count": 16,
   "id": "658bd26c",
   "metadata": {},
   "outputs": [],
   "source": [
    "text += f'''\n",
    "Coefficients by Statmodels\n",
    "--------------------------\n",
    "Constant: {lr_rst[0]:.3f}\n",
    "'''"
   ]
  },
  {
   "cell_type": "code",
   "execution_count": 17,
   "id": "05efad2f",
   "metadata": {},
   "outputs": [],
   "source": [
    "for idx, val in enumerate(lr_rst[1:]):\n",
    "    text += f'Beta{idx+1}: {val:.3f}\\n'"
   ]
  },
  {
   "cell_type": "code",
   "execution_count": 18,
   "id": "45952184",
   "metadata": {},
   "outputs": [],
   "source": [
    "file = open(out_name, \"w\") \n",
    "file.write(text)\n",
    "file.close()"
   ]
  },
  {
   "cell_type": "code",
   "execution_count": null,
   "id": "05154cc4",
   "metadata": {},
   "outputs": [],
   "source": []
  }
 ],
 "metadata": {
  "kernelspec": {
   "display_name": "Python 3 (ipykernel)",
   "language": "python",
   "name": "python3"
  },
  "language_info": {
   "codemirror_mode": {
    "name": "ipython",
    "version": 3
   },
   "file_extension": ".py",
   "mimetype": "text/x-python",
   "name": "python",
   "nbconvert_exporter": "python",
   "pygments_lexer": "ipython3",
   "version": "3.9.7"
  }
 },
 "nbformat": 4,
 "nbformat_minor": 5
}

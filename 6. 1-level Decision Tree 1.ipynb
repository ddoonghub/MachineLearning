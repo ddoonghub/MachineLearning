{
 "cells": [
  {
   "cell_type": "code",
   "execution_count": 1,
   "metadata": {
    "id": "Qgyq8I5DjwBc"
   },
   "outputs": [],
   "source": [
    "import numpy as np\n",
    "import pandas as pd\n",
    "from sklearn.metrics import confusion_matrix"
   ]
  },
  {
   "cell_type": "code",
   "execution_count": null,
   "metadata": {},
   "outputs": [],
   "source": []
  },
  {
   "cell_type": "markdown",
   "metadata": {},
   "source": [
    "## Read Data"
   ]
  },
  {
   "cell_type": "code",
   "execution_count": 2,
   "metadata": {
    "id": "eFrMRm1CkiFg"
   },
   "outputs": [],
   "source": [
    "def read_data():\n",
    "    trdata_name = input('Enter the name of train data file [(ex) pid.dat]: ')\n",
    "    tstdata_name = input('Enter the name of test data file [(ex) pidtest.dat]: ')\n",
    "    coding_fm = int(input(\"Select the data coding format(1 = 'a b c' or 2 = 'a,b,c'): \"))\n",
    "    separator_fm = {coding_fm == 1 : ' '}.get(True, \",\")\n",
    "    res_pos = int(input('Enter the column position of the response variable : [from 1 to p]:')) - 1\n",
    "    header = input('Does the data have column header? (y/n):')\n",
    "    \n",
    "    if header == 'y':\n",
    "        trdata = pd.read_csv(trdata_name, sep=separator_fm)\n",
    "        trres_col = trdata.columns[res_pos]\n",
    "        tr_response = trdata[trres_col]\n",
    "        tr_feature = trdata.drop(trres_col, axis = 1)\n",
    "        \n",
    "        tstdata = pd.read_csv(tstdata_name, sep=separator_fm)\n",
    "        tstres_col = tstdata.columns[res_pos]\n",
    "        tst_response = tstdata[tstres_col]\n",
    "        tst_feature = tstdata.drop(tstres_col, axis = 1)\n",
    "    \n",
    "    else:\n",
    "        trdata = pd.read_csv(trdata_name, sep=separator_fm, header=None)\n",
    "        tr_response = trdata[res_pos]\n",
    "        tr_feature = trdata.drop(res_pos, axis = 1)\n",
    "        \n",
    "        tstdata = pd.read_csv(tstdata_name, sep=separator_fm, header=None)\n",
    "        tst_response = tstdata[res_pos]\n",
    "        tst_feature = tstdata.drop(res_pos, axis = 1)\n",
    "        \n",
    "    out_name = input('Enter the output file name to export [(ex) result.txt]:')\n",
    "    return tr_feature, tr_response, tst_feature, tst_response, out_name"
   ]
  },
  {
   "cell_type": "code",
   "execution_count": null,
   "metadata": {},
   "outputs": [],
   "source": []
  },
  {
   "cell_type": "markdown",
   "metadata": {},
   "source": [
    "## Decision Tree"
   ]
  },
  {
   "cell_type": "code",
   "execution_count": 3,
   "metadata": {
    "id": "W9TJXKfiMaVz"
   },
   "outputs": [],
   "source": [
    "class DecisionTree:\n",
    "    def __init__(self):\n",
    "        None\n",
    "\n",
    "    def get_gini(self, y):\n",
    "        p = np.unique(y, return_counts=True)[1] / len(y)\n",
    "        t = 1 - np.sum(p ** 2)\n",
    "        return t\n",
    "\n",
    "    def get_split(self, sort_x, sort_y):\n",
    "        fit_idx = 1000\n",
    "        fit_gini = 2\n",
    "        fit_y = None\n",
    "        pre_x = sort_x[0]\n",
    "        \n",
    "        for idx, x_val in enumerate(sort_x):\n",
    "            if x_val != pre_x:\n",
    "                y_left = sort_y[:idx]\n",
    "                y_right = sort_y[idx:]\n",
    "\n",
    "                t1 = self.get_gini(y_left)\n",
    "                t2 = self.get_gini(y_right)\n",
    "                \n",
    "                left_weight = len(y_left) / len(sort_y)\n",
    "                right_weight = len(y_right) / len(sort_y)\n",
    "                \n",
    "                gini = left_weight * t1 + right_weight * t2\n",
    "\n",
    "                if gini < fit_gini:\n",
    "                    fit_idx = idx \n",
    "                    fit_gini = gini\n",
    "                    left_y, left_cnt = self.get_node(y_left)\n",
    "                    right_y, right_cnt = self.get_node(y_right)\n",
    "                    fit_y = ((left_y, left_cnt), (right_y, right_cnt))\n",
    "                    \n",
    "                pre_x = x_val\n",
    "                \n",
    "        return fit_idx, fit_gini, fit_y\n",
    "\n",
    "\n",
    "    def get_node(self, y):\n",
    "        labels, cnts = np.unique(y, return_counts=True)\n",
    "        return labels[cnts.argmax()], cnts\n",
    "    \n",
    "    def fit(self, x, y):\n",
    "        col_num = x.shape[1]\n",
    "        split_lst = []\n",
    "\n",
    "        for i in range(col_num):\n",
    "            x_col = x.values[:, i]\n",
    "            sort_x = x_col[x_col.argsort()]\n",
    "            sort_y = y[x_col.argsort()]\n",
    "            \n",
    "            fit_idx, fit_score, fit_y = self.get_split(sort_x, sort_y)\n",
    "            split_pt = (sort_x[fit_idx-1] + sort_x[fit_idx])/2\n",
    "            \n",
    "            split_lst.append((fit_idx, fit_score, fit_y, split_pt))\n",
    "\n",
    "        self.best_x_idx = np.argmin([x[1] for x in split_lst], axis=0)\n",
    "        self.best_idx, self.best_gini, fit_y, self.best_split = split_lst[self.best_x_idx]\n",
    "        \n",
    "        (self.left_y, self.left_cnt), (self.right_y, self.right_cnt) = fit_y\n",
    "        self.y, self.cnt = self.get_node(y)\n",
    "\n",
    "    def predict(self, x):\n",
    "        pred = np.zeros(x.shape[0],)\n",
    "        \n",
    "        left = x[self.best_x_idx] <= self.best_split\n",
    "        right = x[self.best_x_idx] > self.best_split\n",
    "        \n",
    "        pred[left] = self.left_y\n",
    "        pred[right] = self.right_y\n",
    "        return pred\n",
    "    \n",
    "    def accuracy(self, y, pred_y):\n",
    "        acc = np.mean(pred_y == y.values)\n",
    "        return acc"
   ]
  },
  {
   "cell_type": "code",
   "execution_count": null,
   "metadata": {},
   "outputs": [],
   "source": []
  },
  {
   "cell_type": "markdown",
   "metadata": {},
   "source": [
    "## Output"
   ]
  },
  {
   "cell_type": "code",
   "execution_count": 4,
   "metadata": {},
   "outputs": [
    {
     "name": "stdout",
     "output_type": "stream",
     "text": [
      "Enter the name of train data file [(ex) pid.dat]: pid.dat\n",
      "Enter the name of test data file [(ex) pidtest.dat]: pidtest.dat\n",
      "Select the data coding format(1 = 'a b c' or 2 = 'a,b,c'): 2\n",
      "Enter the column position of the response variable : [from 1 to p]:8\n",
      "Does the data have column header? (y/n):n\n",
      "Enter the output file name to export [(ex) result.txt]:result.txt\n"
     ]
    }
   ],
   "source": [
    "tr_x, tr_y, tst_x, tst_y, out_name = read_data()"
   ]
  },
  {
   "cell_type": "code",
   "execution_count": 5,
   "metadata": {},
   "outputs": [],
   "source": [
    "dt = DecisionTree()"
   ]
  },
  {
   "cell_type": "code",
   "execution_count": 6,
   "metadata": {},
   "outputs": [],
   "source": [
    "dt.fit(tr_x, tr_y)"
   ]
  },
  {
   "cell_type": "code",
   "execution_count": 7,
   "metadata": {},
   "outputs": [],
   "source": [
    "text = f'''Tree Structure\n",
    "    Node 1: {dt.y} ({dt.cnt[0]}, {dt.cnt[1]})\n",
    "    Node 2: x{dt.best_x_idx+1} <= {dt.best_split}, {dt.left_y} ({dt.left_cnt[0]}, {dt.left_cnt[1]})\n",
    "    Node 3: x{dt.best_x_idx+1} > {dt.best_split}, {dt.right_y} ({dt.right_cnt[0]}, {dt.right_cnt[1]})\n",
    "    \n",
    "Confusion Matrix (Test)\n",
    "-----------------------\n",
    "{confusion_matrix(tst_y, dt.predict(tst_x))}\n",
    "\n",
    "Model Summary (Test)\n",
    "--------------------\n",
    "Overall accuracy = {dt.accuracy(tst_y, dt.predict(tst_x)):.3f}\n",
    "'''"
   ]
  },
  {
   "cell_type": "code",
   "execution_count": 8,
   "metadata": {
    "id": "IKxwI2tr2-_t"
   },
   "outputs": [],
   "source": [
    "file = open(out_name, \"w\") \n",
    "file.write(text)\n",
    "file.close()"
   ]
  },
  {
   "cell_type": "code",
   "execution_count": null,
   "metadata": {},
   "outputs": [],
   "source": []
  }
 ],
 "metadata": {
  "colab": {
   "collapsed_sections": [],
   "provenance": []
  },
  "kernelspec": {
   "display_name": "Python 3 (ipykernel)",
   "language": "python",
   "name": "python3"
  },
  "language_info": {
   "codemirror_mode": {
    "name": "ipython",
    "version": 3
   },
   "file_extension": ".py",
   "mimetype": "text/x-python",
   "name": "python",
   "nbconvert_exporter": "python",
   "pygments_lexer": "ipython3",
   "version": "3.9.7"
  }
 },
 "nbformat": 4,
 "nbformat_minor": 1
}

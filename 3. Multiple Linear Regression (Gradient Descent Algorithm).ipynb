{
 "cells": [
  {
   "cell_type": "code",
   "execution_count": 1,
   "id": "26231a28",
   "metadata": {},
   "outputs": [],
   "source": [
    "import pandas as pd\n",
    "import numpy as np"
   ]
  },
  {
   "cell_type": "markdown",
   "id": "411158d9",
   "metadata": {},
   "source": [
    "## 1. Gradient descent"
   ]
  },
  {
   "cell_type": "code",
   "execution_count": 2,
   "id": "a988384e",
   "metadata": {},
   "outputs": [],
   "source": [
    "def read_data():\n",
    "    data_name = input('Enter the name of data file [(ex) harris.dat]: ')\n",
    "    coding_fm = int(input(\"Select the data coding format(1 = 'a b c' or 2 = 'a,b,c'): \"))\n",
    "    separator_fm = {coding_fm == 1 : ' '}.get(True, \",\")\n",
    "    res_pos = int(input('Enter the column position of the response variable : [from 1 to p]:')) - 1\n",
    "    header = input('Does the data have column header? (y/n):')\n",
    "    \n",
    "    if header == 'y':\n",
    "        trdata = pd.read_csv(data_name, sep=separator_fm)\n",
    "        res_col = trdata.columns[res_pos]\n",
    "        tr_response = trdata[res_col]\n",
    "        tr_feature = trdata.drop(res_col, axis = 1)\n",
    "    \n",
    "    else:\n",
    "        trdata = pd.read_csv(data_name, sep=separator_fm, header=None)\n",
    "        tr_response = trdata[res_pos]\n",
    "        tr_feature = trdata.drop(res_pos, axis = 1)\n",
    "\n",
    "    out_name = input('Enter the output file name to export [(ex) result.txt]:')\n",
    "    return tr_feature, tr_response, out_name"
   ]
  },
  {
   "cell_type": "code",
   "execution_count": 3,
   "id": "29fa61c2",
   "metadata": {},
   "outputs": [
    {
     "name": "stdout",
     "output_type": "stream",
     "text": [
      "Enter the name of data file [(ex) harris.dat]: harris.dat\n",
      "Select the data coding format(1 = 'a b c' or 2 = 'a,b,c'): 1\n",
      "Enter the column position of the response variable : [from 1 to p]:1\n",
      "Does the data have column header? (y/n):n\n",
      "Enter the output file name to export [(ex) result.txt]:reg_result.txt\n"
     ]
    }
   ],
   "source": [
    "tr_x, tr_y, out_name = read_data()"
   ]
  },
  {
   "cell_type": "code",
   "execution_count": 4,
   "id": "eb6a7807",
   "metadata": {},
   "outputs": [],
   "source": [
    "ones = np.ones((tr_x.shape[0], 1))\n",
    "tr_xc = np.concatenate([ones, tr_x], axis=1)"
   ]
  },
  {
   "cell_type": "code",
   "execution_count": 5,
   "id": "ed0b6092",
   "metadata": {},
   "outputs": [],
   "source": [
    "def forward(x, beta):\n",
    "    y_hat = np.dot(x, beta)\n",
    "    return y_hat"
   ]
  },
  {
   "cell_type": "code",
   "execution_count": 6,
   "id": "2f49395c",
   "metadata": {},
   "outputs": [],
   "source": [
    "def gradient(x, y, y_hat):\n",
    "    grad = np.mean((y_hat - y.values.reshape(-1,1)) * x, axis=0).reshape(-1,1)\n",
    "    return grad"
   ]
  },
  {
   "cell_type": "code",
   "execution_count": 7,
   "id": "a4a0cec7",
   "metadata": {},
   "outputs": [],
   "source": [
    "beta = np.random.rand(tr_xc.shape[1], 1)\n",
    "\n",
    "for i in range(10000000):\n",
    "    y_hat = forward(tr_xc, beta)\n",
    "    grad = gradient(tr_xc, tr_y, y_hat)\n",
    "    beta -= 1e-4 * grad"
   ]
  },
  {
   "cell_type": "code",
   "execution_count": 8,
   "id": "88657f1e",
   "metadata": {},
   "outputs": [
    {
     "data": {
      "text/plain": [
       "array([[3.52642211e+03],\n",
       "       [9.00203109e+01],\n",
       "       [1.26899001e+00],\n",
       "       [2.34062358e+01],\n",
       "       [7.22460671e+02]])"
      ]
     },
     "execution_count": 8,
     "metadata": {},
     "output_type": "execute_result"
    }
   ],
   "source": [
    "beta"
   ]
  },
  {
   "cell_type": "code",
   "execution_count": null,
   "id": "e152d307",
   "metadata": {},
   "outputs": [],
   "source": []
  },
  {
   "cell_type": "markdown",
   "id": "edb29ccf",
   "metadata": {},
   "source": [
    "### Skitlearn"
   ]
  },
  {
   "cell_type": "code",
   "execution_count": 9,
   "id": "17b4990b",
   "metadata": {},
   "outputs": [],
   "source": [
    "from sklearn.linear_model import LinearRegression"
   ]
  },
  {
   "cell_type": "code",
   "execution_count": 10,
   "id": "4b319c28",
   "metadata": {},
   "outputs": [],
   "source": [
    "lr = LinearRegression(fit_intercept=True)"
   ]
  },
  {
   "cell_type": "code",
   "execution_count": 11,
   "id": "f4e4af68",
   "metadata": {},
   "outputs": [
    {
     "data": {
      "text/plain": [
       "LinearRegression()"
      ]
     },
     "execution_count": 11,
     "metadata": {},
     "output_type": "execute_result"
    }
   ],
   "source": [
    "lr.fit(tr_x, tr_y)"
   ]
  },
  {
   "cell_type": "code",
   "execution_count": 12,
   "id": "d9844622",
   "metadata": {},
   "outputs": [
    {
     "data": {
      "text/plain": [
       "3526.4221106890072"
      ]
     },
     "execution_count": 12,
     "metadata": {},
     "output_type": "execute_result"
    }
   ],
   "source": [
    "lr.intercept_"
   ]
  },
  {
   "cell_type": "code",
   "execution_count": 13,
   "id": "bcdbac2b",
   "metadata": {},
   "outputs": [
    {
     "data": {
      "text/plain": [
       "array([ 90.02031094,   1.26899001,  23.40623577, 722.46067138])"
      ]
     },
     "execution_count": 13,
     "metadata": {},
     "output_type": "execute_result"
    }
   ],
   "source": [
    "lr.coef_"
   ]
  },
  {
   "cell_type": "code",
   "execution_count": null,
   "id": "3d250adf",
   "metadata": {},
   "outputs": [],
   "source": []
  },
  {
   "cell_type": "markdown",
   "id": "e60d80f8",
   "metadata": {},
   "source": [
    "### output"
   ]
  },
  {
   "cell_type": "code",
   "execution_count": 14,
   "id": "f09036f3",
   "metadata": {},
   "outputs": [],
   "source": [
    "text = f'''Coefficients by Gradient Descent Method\n",
    "---------------------------------------\n",
    "Constant: {float(beta[0]):.3f}\n",
    "'''"
   ]
  },
  {
   "cell_type": "code",
   "execution_count": 15,
   "id": "6d2e93cf",
   "metadata": {},
   "outputs": [],
   "source": [
    "for idx, val in enumerate(beta[1:]):\n",
    "    text += f'Beta{idx+1}: {val[0]:.3f}\\n'"
   ]
  },
  {
   "cell_type": "code",
   "execution_count": 16,
   "id": "b3c9bb29",
   "metadata": {},
   "outputs": [],
   "source": [
    "text += f'''\n",
    "Coefficient by Statmodels\n",
    "-------------------------\n",
    "Constant: {lr.intercept_:.3f}\n",
    "'''"
   ]
  },
  {
   "cell_type": "code",
   "execution_count": 17,
   "id": "7e2a7b02",
   "metadata": {},
   "outputs": [],
   "source": [
    "for idx, val in enumerate(lr.coef_):\n",
    "    text += f'Beta{idx+1}: {val:.3f}\\n'"
   ]
  },
  {
   "cell_type": "code",
   "execution_count": 18,
   "id": "de4e6512",
   "metadata": {},
   "outputs": [],
   "source": [
    "file = open(out_name, \"w\") \n",
    "file.write(text)\n",
    "file.close()"
   ]
  },
  {
   "cell_type": "code",
   "execution_count": null,
   "id": "240d45ad",
   "metadata": {},
   "outputs": [],
   "source": []
  },
  {
   "cell_type": "markdown",
   "id": "508d3561",
   "metadata": {},
   "source": [
    "## 2. LDA"
   ]
  },
  {
   "cell_type": "code",
   "execution_count": 19,
   "id": "ed9173cf",
   "metadata": {},
   "outputs": [],
   "source": [
    "def read_data():\n",
    "    trdata_name = input('Enter the name of train data file [(ex) veh.dat]: ')\n",
    "    tstdata_name = input('Enter the name of test data file [(ex) vehtest.dat]: ')\n",
    "    coding_fm = int(input(\"Select the data coding format(1 = 'a b c' or 2 = 'a,b,c'): \"))\n",
    "    separator_fm = {coding_fm == 1 : ' '}.get(True, \",\")\n",
    "    res_pos = int(input('Enter the column position of the response variable : [from 1 to p]:')) - 1\n",
    "    header = input('Does the data have column header? (y/n):')\n",
    "    \n",
    "    if header == 'y':\n",
    "        trdata = pd.read_csv(trdata_name, sep=separator_fm)\n",
    "        trres_col = trdata.columns[res_pos]\n",
    "        tr_response = trdata[res_col]\n",
    "        tr_feature = trdata.drop(res_col, axis = 1)\n",
    "        \n",
    "        tstdata = pd.read_csv(tstdata_name, sep=separator_fm)\n",
    "        tstres_col = tstdata.columns[res_pos]\n",
    "        tst_response = tstdata[tstres_col]\n",
    "        tst_feature = tstdata.drop(tstres_col, axis = 1)\n",
    "    \n",
    "    else:\n",
    "        trdata = pd.read_csv(trdata_name, sep=separator_fm, header=None)\n",
    "        tr_response = trdata[res_pos]\n",
    "        tr_feature = trdata.drop(res_pos, axis = 1)\n",
    "        \n",
    "        tstdata = pd.read_csv(tstdata_name, sep=separator_fm, header=None)\n",
    "        tst_response = tstdata[res_pos]\n",
    "        tst_feature = tstdata.drop(res_pos, axis = 1)\n",
    "        \n",
    "    out_name = input('Enter the output file name to export [(ex) result.txt]:')\n",
    "    return tr_feature, tr_response, tst_feature, tst_response, out_name"
   ]
  },
  {
   "cell_type": "code",
   "execution_count": 20,
   "id": "1fcbc337",
   "metadata": {},
   "outputs": [
    {
     "name": "stdout",
     "output_type": "stream",
     "text": [
      "Enter the name of train data file [(ex) veh.dat]: veh.dat\n",
      "Enter the name of test data file [(ex) vehtest.dat]: vehtest.dat\n",
      "Select the data coding format(1 = 'a b c' or 2 = 'a,b,c'): 2\n",
      "Enter the column position of the response variable : [from 1 to p]:19\n",
      "Does the data have column header? (y/n):n\n",
      "Enter the output file name to export [(ex) result.txt]:lda_result.txt\n"
     ]
    }
   ],
   "source": [
    "tr_x, tr_y, tst_x, tst_y, out_name = read_data()"
   ]
  },
  {
   "cell_type": "code",
   "execution_count": 21,
   "id": "affb5a92",
   "metadata": {},
   "outputs": [],
   "source": [
    "class LDA:\n",
    "    def __init__(self):\n",
    "        return\n",
    "\n",
    "    def fit(self, x, y):\n",
    "        class_num = int(y.nunique())\n",
    "        class_data_num = [int(sum((y == i).values)) for i in range(1, class_num+1)]\n",
    "        class_cov = [(x[(y == i).values]).cov() for i in range(1, class_num+1)]\n",
    "        self.pooled_cov = sum([(class_data_num[i]-1)*class_cov[i] \\\n",
    "                               for i in range(class_num)]) / (sum(class_data_num)-class_num)\n",
    "        self.class_mean = [(x[(y == i).values]).mean() for i in range(1, class_num+1)]\n",
    "        self.class_p = y.value_counts(normalize=True).sort_index().values\n",
    "    \n",
    "    def predict(self, x, y):\n",
    "        c = [np.diag(np.exp((-1/2) * (x - self.class_mean[i]) @ np.linalg.inv(self.pooled_cov) \\\n",
    "                            @ (x - self.class_mean[i]).T)) * self.class_p[i] for i in range(self.class_p.shape[0])]\n",
    "        self.c_pred = np.argmax(np.array(c), axis=0) + 1\n",
    "        return self.c_pred\n",
    "    \n",
    "    def accuracy(self, x, y):\n",
    "        self.acc = sum(y.values.flatten() == self.c_pred) / len(x)\n",
    "        return self.acc"
   ]
  },
  {
   "cell_type": "code",
   "execution_count": null,
   "id": "643506f8",
   "metadata": {},
   "outputs": [],
   "source": []
  },
  {
   "cell_type": "markdown",
   "id": "b52d68dc",
   "metadata": {},
   "source": [
    "### 회귀 분석 평가 지표"
   ]
  },
  {
   "cell_type": "code",
   "execution_count": 22,
   "id": "ae26fffa",
   "metadata": {},
   "outputs": [],
   "source": [
    "def R_squre(y, y_hat):\n",
    "    SST = np.sum((y - y.mean()) ** 2)\n",
    "    SSR = np.sum((y - y_hat) ** 2)\n",
    "    return 1 - SSR/SST"
   ]
  },
  {
   "cell_type": "code",
   "execution_count": null,
   "id": "661e505e",
   "metadata": {},
   "outputs": [],
   "source": []
  },
  {
   "cell_type": "markdown",
   "id": "b4abda60",
   "metadata": {},
   "source": [
    "### For train"
   ]
  },
  {
   "cell_type": "code",
   "execution_count": 23,
   "id": "a7b6e87b",
   "metadata": {},
   "outputs": [],
   "source": [
    "def train_MAE(y, y_hat):\n",
    "    return np.sum(np.abs(y - y_hat)) / (len(y)-1)"
   ]
  },
  {
   "cell_type": "code",
   "execution_count": 24,
   "id": "5ef43292",
   "metadata": {},
   "outputs": [],
   "source": [
    "def train_MAPE(y, y_hat):\n",
    "    return np.sum(np.abs((y - y_hat) / y)) / (len(y)-1)"
   ]
  },
  {
   "cell_type": "code",
   "execution_count": 25,
   "id": "e894ebb2",
   "metadata": {},
   "outputs": [],
   "source": [
    "def train_MSE(y, y_hat):\n",
    "    return np.sum((y - y_hat) ** 2) / (len(y)-1)"
   ]
  },
  {
   "cell_type": "code",
   "execution_count": 26,
   "id": "38bdc22e",
   "metadata": {},
   "outputs": [],
   "source": [
    "def train_RMSE(y, y_hat):\n",
    "    return np.sqrt(np.sum((y - y_hat) ** 2) / (len(y)-1))"
   ]
  },
  {
   "cell_type": "code",
   "execution_count": null,
   "id": "6dcf8c41",
   "metadata": {},
   "outputs": [],
   "source": []
  },
  {
   "cell_type": "markdown",
   "id": "3bf48461",
   "metadata": {},
   "source": [
    "### For test"
   ]
  },
  {
   "cell_type": "code",
   "execution_count": 27,
   "id": "db34d3a5",
   "metadata": {},
   "outputs": [],
   "source": [
    "def test_MAE(y, y_hat):\n",
    "    return np.sum(np.abs(y - y_hat)) / len(y)"
   ]
  },
  {
   "cell_type": "code",
   "execution_count": 28,
   "id": "2cc011d9",
   "metadata": {},
   "outputs": [],
   "source": [
    "def test_MAPE(y, y_hat):\n",
    "    return np.sum(np.abs((y - y_hat) / y)) / len(y)"
   ]
  },
  {
   "cell_type": "code",
   "execution_count": 29,
   "id": "deb0a8cb",
   "metadata": {},
   "outputs": [],
   "source": [
    "def test_MSE(y, y_hat):\n",
    "    return np.sum((y - y_hat) ** 2) / len(y)"
   ]
  },
  {
   "cell_type": "code",
   "execution_count": 30,
   "id": "fcf06816",
   "metadata": {},
   "outputs": [],
   "source": [
    "def test_RMSE(y, y_hat):\n",
    "    return np.sqrt(np.sum((y - y_hat) ** 2) / len(y))"
   ]
  },
  {
   "cell_type": "code",
   "execution_count": null,
   "id": "a2a10a2f",
   "metadata": {},
   "outputs": [],
   "source": []
  },
  {
   "cell_type": "markdown",
   "id": "827be53f",
   "metadata": {},
   "source": [
    "### confusion matrix"
   ]
  },
  {
   "cell_type": "code",
   "execution_count": 31,
   "id": "d25fd872",
   "metadata": {},
   "outputs": [],
   "source": [
    "def conf_matrix(y, c_pred):\n",
    "    conf = [[sum((y == j) & (c_pred == i)) for i in range(1, int(y.nunique())+1)] \\\n",
    "            for j in range(1, int(y.nunique())+1)]\n",
    "    df_conf = pd.DataFrame(conf)\n",
    "    df_conf.columns = [1,2,3,4]\n",
    "    df_conf.index = [1,2,3,4]\n",
    "    return df_conf"
   ]
  },
  {
   "cell_type": "code",
   "execution_count": null,
   "id": "71352016",
   "metadata": {},
   "outputs": [],
   "source": []
  },
  {
   "cell_type": "code",
   "execution_count": 32,
   "id": "561e84e5",
   "metadata": {},
   "outputs": [],
   "source": [
    "def analysis():\n",
    "    ana_method = int(input('Enter the anaysis method [(ex) 1 = classification or 2 = regression]: '))\n",
    "    \n",
    "    if ana_method == 1:\n",
    "        tr_lda = LDA()\n",
    "        tr_lda.fit(tr_x, tr_y)\n",
    "        tr_c_pred = tr_lda.predict(tr_x, tr_y)\n",
    "        tr_acc = tr_lda.accuracy(tr_x, tr_y)\n",
    "\n",
    "        tst_lda = LDA()\n",
    "        tst_lda.fit(tr_x, tr_y)\n",
    "        tst_c_pred = tst_lda.predict(tst_x, tst_y)\n",
    "        tst_acc = tst_lda.accuracy(tst_x, tst_y)\n",
    "\n",
    "        text = f'''Confusion Matrix (Training)\n",
    "--------------------------\n",
    "{conf_matrix(tr_y, tr_c_pred)}\n",
    "        \n",
    "Model Summary (Training)\n",
    "------------------------\n",
    "overall accuracy = {tr_acc:.3f}\n",
    "\n",
    "Confusion Matrix (Test)\n",
    "----------------------\n",
    "{conf_matrix(tst_y, tst_c_pred)}\n",
    "\n",
    "Model Summary (Test)\n",
    "--------------------\n",
    "overall accuracy = {tst_acc:.3f}\n",
    "'''\n",
    "\n",
    "    else:\n",
    "        xtx = np.dot(tr_x.T, tr_x)\n",
    "        xtx_inv = np.linalg.inv(xtx)\n",
    "        xtx_inv_xt = np.dot(xtx_inv, tr_x.T)\n",
    "        beta_hat = np.dot(xtx_inv_xt, tr_y)\n",
    "        \n",
    "        tr_y_hat = np.dot(tr_x, beta_hat)\n",
    "        tst_y_hat = np.dot(tst_x, beta_hat)\n",
    "        \n",
    "        text = f'''coefficients\n",
    "------------\n",
    "constant: {beta_hat[0]:.3f}\n",
    "'''\n",
    "        for idx, val in enumerate(beta_hat[1:]):\n",
    "            text += f'Beta{idx+1}: {val:.3f}\\n'\n",
    "        \n",
    "        text += f'''\n",
    "Model Summary\n",
    "-------------\n",
    "R-Square = {R_squre(tr_y, tr_y_hat):.4f}\n",
    "MSE = {train_MSE(tr_y, tr_y_hat):.4f}\n",
    "\n",
    "Prediction Performance\n",
    "----------------------\n",
    "Predictive R-Square = {R_squre(tst_y, tst_y_hat):.4f}\n",
    "MAE = {test_MAE(tst_y, tst_y_hat):.4f}\n",
    "MAPE = {test_MAPE(tst_y, tst_y_hat):.4f}\n",
    "RMSE = {test_RMSE(tst_y, tst_y_hat):.4f}\n",
    "'''\n",
    "\n",
    "    return text"
   ]
  },
  {
   "cell_type": "code",
   "execution_count": 33,
   "id": "f923091d",
   "metadata": {},
   "outputs": [
    {
     "name": "stdout",
     "output_type": "stream",
     "text": [
      "Enter the anaysis method [(ex) 1 = classification or 2 = regression]: 1\n"
     ]
    }
   ],
   "source": [
    "text = analysis()"
   ]
  },
  {
   "cell_type": "code",
   "execution_count": 34,
   "id": "5ec3fb9c",
   "metadata": {},
   "outputs": [],
   "source": [
    "file = open(out_name, \"w\") \n",
    "file.write(text)\n",
    "file.close()"
   ]
  },
  {
   "cell_type": "code",
   "execution_count": null,
   "id": "b7c3523b",
   "metadata": {},
   "outputs": [],
   "source": []
  }
 ],
 "metadata": {
  "kernelspec": {
   "display_name": "Python 3 (ipykernel)",
   "language": "python",
   "name": "python3"
  },
  "language_info": {
   "codemirror_mode": {
    "name": "ipython",
    "version": 3
   },
   "file_extension": ".py",
   "mimetype": "text/x-python",
   "name": "python",
   "nbconvert_exporter": "python",
   "pygments_lexer": "ipython3",
   "version": "3.9.7"
  }
 },
 "nbformat": 4,
 "nbformat_minor": 5
}

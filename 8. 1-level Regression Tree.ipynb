{
 "cells": [
  {
   "cell_type": "code",
   "execution_count": 1,
   "id": "2b0461d5",
   "metadata": {},
   "outputs": [],
   "source": [
    "import numpy as np\n",
    "import pandas as pd\n",
    "import itertools"
   ]
  },
  {
   "cell_type": "code",
   "execution_count": 2,
   "id": "a8ea836f",
   "metadata": {},
   "outputs": [],
   "source": [
    "def read_data():\n",
    "    trdata_name = input('Enter the name of train data file [(ex) boston_tr.csv]: ')\n",
    "    tstdata_name = input('Enter the name of test data file [(ex) boston_tst.csv]: ')\n",
    "    coding_fm = int(input(\"Select the data coding format(1 = 'a b c' or 2 = 'a,b,c'): \"))\n",
    "    separator_fm = {coding_fm == 1 : ' '}.get(True, \",\")\n",
    "    res_pos = int(input('Enter the column position of the response variable : [from 1 to p]:')) - 1\n",
    "    header = input('Does the data have column header? (y/n):')\n",
    "    \n",
    "    if header == 'y':\n",
    "        trdata = pd.read_csv(trdata_name, sep=separator_fm)\n",
    "        trres_col = trdata.columns[res_pos]\n",
    "        tr_response = trdata[trres_col]\n",
    "        tr_feature = trdata.drop(trres_col, axis = 1)\n",
    "        \n",
    "        tstdata = pd.read_csv(tstdata_name, sep=separator_fm)\n",
    "        tstres_col = tstdata.columns[res_pos]\n",
    "        tst_response = tstdata[tstres_col]\n",
    "        tst_feature = tstdata.drop(tstres_col, axis = 1)\n",
    "    \n",
    "    else:\n",
    "        trdata = pd.read_csv(trdata_name, sep=separator_fm, header=None)\n",
    "        tr_response = trdata[res_pos]\n",
    "        tr_feature = trdata.drop(res_pos, axis = 1)\n",
    "        \n",
    "        tstdata = pd.read_csv(tstdata_name, sep=separator_fm, header=None)\n",
    "        tst_response = tstdata[res_pos]\n",
    "        tst_feature = tstdata.drop(res_pos, axis = 1)\n",
    "        \n",
    "    out_name = input('Enter the output file name to export [(ex) result.txt]:')\n",
    "    return tr_feature, tr_response, tst_feature, tst_response, out_name"
   ]
  },
  {
   "cell_type": "code",
   "execution_count": null,
   "id": "4e739c64",
   "metadata": {},
   "outputs": [],
   "source": []
  },
  {
   "cell_type": "code",
   "execution_count": 3,
   "id": "fd5e9734",
   "metadata": {},
   "outputs": [],
   "source": [
    "class CartReg:\n",
    "    def __init__(self):\n",
    "        None\n",
    "\n",
    "    def fit(self, x, y):\n",
    "        var_lst = []\n",
    "\n",
    "        for col_idx in range(len(x.columns)):\n",
    "            if isinstance(x.iloc[0, col_idx], str):\n",
    "                x_cate = x.iloc[:, col_idx].unique()\n",
    "\n",
    "                for i in range(len(x_cate)-1):\n",
    "                    best_var = 1e+10\n",
    "\n",
    "                    for comb in itertools.combinations(x_cate, i+1):\n",
    "                        left = list(comb)\n",
    "                        right = [i for i in x_cate if not i in comb]\n",
    "                        print(left, right)\n",
    "\n",
    "                        left_x = x[x.iloc[:, col_idx].isin(left)]\n",
    "                        right_x = x[x.iloc[:, col_idx].isin(right)]\n",
    "\n",
    "                        left_y = y[x.iloc[:, col_idx].isin(left)]\n",
    "                        right_y = y[x.iloc[:, col_idx].isin(right)]\n",
    "\n",
    "                        left_var = np.var(left_y)\n",
    "                        right_var = np.var(right_y)\n",
    "\n",
    "                        left_w = len(left_y) / len(tr_y)\n",
    "                        right_w = len(right_y) / len(tr_y)\n",
    "\n",
    "                        total_var = left_w * left_var + right_w * right_var\n",
    "\n",
    "                        if total_var < best_var:\n",
    "                            best_var = total_var\n",
    "                            best_x_left = left_x\n",
    "                            best_x_right = right_x\n",
    "                            \n",
    "                            self.cat_best_y_left = left_y\n",
    "                            self.cat_best_y_right = right_y\n",
    "                            \n",
    "                            self.best_left = left\n",
    "                            self.best_right = right\n",
    "                            \n",
    "                var_lst.append(best_var)\n",
    "\n",
    "            else:\n",
    "                sort_index = x.values[:, col_idx].argsort()\n",
    "                sort_y = y[sort_index]\n",
    "                sort_x = x.values[:, col_idx][sort_index]\n",
    "\n",
    "                best_var = 1e+10\n",
    "\n",
    "                for i in range(1, len(sort_y)-1):\n",
    "                    left_y = sort_y[:i]\n",
    "                    right_y = sort_y[i:]\n",
    "\n",
    "                    left_var = np.var(left_y)\n",
    "                    right_var = np.var(right_y)\n",
    "\n",
    "                    left_w = len(left_y) / len(sort_y)\n",
    "                    right_w = len(right_y) / len(sort_y)\n",
    "\n",
    "                    total_var = left_w * left_var + right_w * right_var\n",
    "\n",
    "                    if total_var < best_var:\n",
    "                        best_var = total_var\n",
    "                        best_idx = i\n",
    "                        self.num_best_y_left = left_y\n",
    "                        self.num_best_y_right = right_y\n",
    "\n",
    "                var_lst.append(best_var)\n",
    "\n",
    "                self.best_x_pt = (sort_x[best_idx - 1] + sort_x[best_idx]) / 2\n",
    "                best_x_idx = sort_index[best_idx]\n",
    "\n",
    "        best_col_idx = np.argmin(var_lst)\n",
    "        best_col_name = tr_x.columns[best_col_idx]\n",
    "        self.best_col_name = best_col_name\n",
    "\n",
    "    def predict(self, x):\n",
    "        pred = np.zeros(x.shape[0], )\n",
    "        \n",
    "        if isinstance(x[self.best_col_name], str):\n",
    "            left = x[self.best_col_name].isin(self.best_left)\n",
    "            right = x[self.best_col_name].isin(self.best_right)\n",
    "\n",
    "            pred[left] = np.mean(self.cat_best_y_left)\n",
    "            pred[right] = np.mean(self.cat_best_y_right)\n",
    "            \n",
    "            self.best_y_left = self.cat_best_y_left\n",
    "            self.best_y_right = self.cat_best_y_right\n",
    "\n",
    "        else:\n",
    "            left = x[self.best_col_name] < self.best_x_pt\n",
    "            right = x[self.best_col_name] >= self.best_x_pt\n",
    "\n",
    "            pred[left] = np.mean(self.num_best_y_left)\n",
    "            pred[right] = np.mean(self.num_best_y_right)\n",
    "            \n",
    "            self.best_y_left = self.num_best_y_left\n",
    "            self.best_y_right = self.num_best_y_right\n",
    "            \n",
    "        return pred\n",
    "\n",
    "    def rmse(self, y, pred):\n",
    "        mse = np.mean((y - pred) ** 2)\n",
    "        return np.sqrt(mse)\n",
    "\n",
    "    def mae(self, y, pred):\n",
    "        return np.mean(np.abs(y - pred))\n",
    "\n",
    "    def mape(self, y, pred):\n",
    "        return np.mean(np.abs((y - pred) / y))"
   ]
  },
  {
   "cell_type": "code",
   "execution_count": null,
   "id": "d633d3cf",
   "metadata": {},
   "outputs": [],
   "source": []
  },
  {
   "cell_type": "code",
   "execution_count": 4,
   "id": "ff67813f",
   "metadata": {},
   "outputs": [
    {
     "name": "stdout",
     "output_type": "stream",
     "text": [
      "Enter the name of train data file [(ex) boston_tr.csv]: boston_tr.csv\n",
      "Enter the name of test data file [(ex) boston_tst.csv]: boston_tst.csv\n",
      "Select the data coding format(1 = 'a b c' or 2 = 'a,b,c'): 2\n",
      "Enter the column position of the response variable : [from 1 to p]:13\n",
      "Does the data have column header? (y/n):y\n",
      "Enter the output file name to export [(ex) result.txt]:result.txt\n"
     ]
    }
   ],
   "source": [
    "tr_x, tr_y, tst_x, tst_y, out_name = read_data()"
   ]
  },
  {
   "cell_type": "code",
   "execution_count": 5,
   "id": "685bf79a",
   "metadata": {},
   "outputs": [],
   "source": [
    "dt_reg = CartReg()"
   ]
  },
  {
   "cell_type": "code",
   "execution_count": 6,
   "id": "9185d1c8",
   "metadata": {},
   "outputs": [],
   "source": [
    "dt_reg.fit(tr_x, tr_y)"
   ]
  },
  {
   "cell_type": "code",
   "execution_count": 7,
   "id": "541b2d8d",
   "metadata": {},
   "outputs": [],
   "source": [
    "pred = dt_reg.predict(tst_x)"
   ]
  },
  {
   "cell_type": "code",
   "execution_count": null,
   "id": "0e874f61",
   "metadata": {},
   "outputs": [],
   "source": []
  },
  {
   "cell_type": "code",
   "execution_count": 8,
   "id": "7ecd0624",
   "metadata": {},
   "outputs": [],
   "source": [
    "text = f'''Tree Structure\n",
    "    Node 1 : n = {len(tr_y)}, mean = {np.mean(tr_y):.3f}\n",
    "        Node 2 : {dt_reg.best_col_name} < {dt_reg.best_x_pt}, n = {len(dt_reg.best_y_left)}, mean = {np.mean(dt_reg.best_y_left):.3f}\n",
    "        Node 3 : {dt_reg.best_col_name} >= {dt_reg.best_x_pt}, n = {len(dt_reg.best_y_right)}, mean = {np.mean(dt_reg.best_y_right):.3f}\n",
    "        \n",
    "Prediction Performance (Test)\n",
    "-----------------------------\n",
    "    MAE = {dt_reg.mae(tst_y, pred):.3f}\n",
    "    MAPE = {dt_reg.mape(tst_y, pred):.3f}\n",
    "    RMSE = {dt_reg.rmse(tst_y, pred):.3f}\n",
    "'''"
   ]
  },
  {
   "cell_type": "code",
   "execution_count": 9,
   "id": "690295de",
   "metadata": {},
   "outputs": [
    {
     "data": {
      "text/plain": [
       "'Tree Structure\\n    Node 1 : n = 343, mean = 21.743\\n        Node 2 : lstat < 10.14, n = 150, mean = 27.657\\n        Node 3 : lstat >= 10.14, n = 193, mean = 17.148\\n        \\nPrediction Performance (Test)\\n-----------------------------\\n    MAE = 5.032\\n    MAPE = 0.291\\n    RMSE = 6.299\\n'"
      ]
     },
     "execution_count": 9,
     "metadata": {},
     "output_type": "execute_result"
    }
   ],
   "source": [
    "text"
   ]
  },
  {
   "cell_type": "code",
   "execution_count": 10,
   "id": "a56f7dbc",
   "metadata": {},
   "outputs": [],
   "source": [
    "file = open(out_name, \"w\") \n",
    "file.write(text)\n",
    "file.close()"
   ]
  },
  {
   "cell_type": "code",
   "execution_count": null,
   "id": "7d6a9331",
   "metadata": {},
   "outputs": [],
   "source": []
  }
 ],
 "metadata": {
  "kernelspec": {
   "display_name": "Python 3 (ipykernel)",
   "language": "python",
   "name": "python3"
  },
  "language_info": {
   "codemirror_mode": {
    "name": "ipython",
    "version": 3
   },
   "file_extension": ".py",
   "mimetype": "text/x-python",
   "name": "python",
   "nbconvert_exporter": "python",
   "pygments_lexer": "ipython3",
   "version": "3.9.7"
  }
 },
 "nbformat": 4,
 "nbformat_minor": 5
}

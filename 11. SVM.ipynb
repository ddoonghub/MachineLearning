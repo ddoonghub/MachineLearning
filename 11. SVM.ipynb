{
 "cells": [
  {
   "cell_type": "code",
   "execution_count": 1,
   "metadata": {},
   "outputs": [],
   "source": [
    "import pandas as pd\n",
    "import numpy as np\n",
    "import tqdm\n",
    "from sklearn.svm import SVC\n",
    "import matplotlib.pyplot as plt\n",
    "from sklearn.metrics import confusion_matrix"
   ]
  },
  {
   "cell_type": "code",
   "execution_count": 2,
   "metadata": {},
   "outputs": [],
   "source": [
    "def read_data():\n",
    "    out_name = input('Enter the output file name to export [(ex) result.txt]:')\n",
    "    return out_name"
   ]
  },
  {
   "cell_type": "code",
   "execution_count": 3,
   "metadata": {},
   "outputs": [],
   "source": [
    "out_name = read_data()"
   ]
  },
  {
   "cell_type": "code",
   "execution_count": 4,
   "metadata": {},
   "outputs": [],
   "source": [
    "def data_generation(n, random_seed, dim=7):\n",
    "    X = []\n",
    "    for i in range(dim):\n",
    "        np.random.seed(i+random_seed)\n",
    "        if i<3:\n",
    "            x = np.random.uniform(-10,10,n)\n",
    "        else:\n",
    "            x = np.random.normal(0,np.sqrt(10),n)\n",
    "        X.append(x)\n",
    "    X = np.array(X)\n",
    "    X = X.reshape(-1,7,order='F')\n",
    "    XB = X[:,0]*np.sqrt(np.abs(X[:,3])+1)+np.sin(X[:,2])-(np.abs(X[:,1])/np.sqrt(np.abs(X[:,4])+1))+1.5*np.abs(X[:,5])+X[:,6]\n",
    "    p = 1/(1+np.exp(-XB))\n",
    "    np.random.seed(random_seed)\n",
    "    y = np.random.binomial(1, p, n)\n",
    "    return X, y"
   ]
  },
  {
   "cell_type": "code",
   "execution_count": 5,
   "metadata": {},
   "outputs": [],
   "source": [
    "n_tr = 1000\n",
    "n_ts = 1000\n",
    "X_tr, y_tr = data_generation(n = n_tr, random_seed = 19960314)\n",
    "X_ts, y_ts = data_generation(n = n_ts, random_seed = 19940322)"
   ]
  },
  {
   "cell_type": "code",
   "execution_count": 6,
   "metadata": {},
   "outputs": [],
   "source": [
    "def train_test_SVM(X_tr, y_tr, X_ts, y_ts, C, svm_type = 'linear'):\n",
    "    assert svm_type in ['linear','rbf']\n",
    "    SVM = SVC(kernel = svm_type, C = C)\n",
    "    SVM.fit(X_tr, y_tr)\n",
    "    y_ts_pred = SVM.predict(X_ts)\n",
    "    test_acc = np.mean(y_ts==y_ts_pred)\n",
    "    return test_acc\n",
    "    "
   ]
  },
  {
   "cell_type": "code",
   "execution_count": 7,
   "metadata": {},
   "outputs": [],
   "source": [
    "C_candidates = []\n",
    "for i in [1,2,3,4,5]:\n",
    "    for j in [1e+2, 1e+1, 1e+0, 1e-1]:\n",
    "        C_candidates.append(i*j)"
   ]
  },
  {
   "cell_type": "code",
   "execution_count": 8,
   "metadata": {},
   "outputs": [
    {
     "name": "stderr",
     "output_type": "stream",
     "text": [
      "100%|██████████| 20/20 [00:51<00:00,  2.59s/it]\n"
     ]
    }
   ],
   "source": [
    "SVM_linear_result = dict()\n",
    "SVM_rbf_result = dict()\n",
    "\n",
    "for C in tqdm.tqdm(C_candidates):\n",
    "    SVM_linear_result[C] = train_test_SVM(X_tr, y_tr, X_ts, y_ts, \n",
    "                                      C = C, svm_type = 'linear')\n",
    "    SVM_rbf_result[C] = train_test_SVM(X_tr, y_tr, X_ts, y_ts, \n",
    "                                      C = C, svm_type = 'rbf')"
   ]
  },
  {
   "cell_type": "code",
   "execution_count": 9,
   "metadata": {},
   "outputs": [
    {
     "name": "stdout",
     "output_type": "stream",
     "text": [
      "10.0 0.838\n"
     ]
    }
   ],
   "source": [
    "best_C_linear = max(SVM_linear_result, key=SVM_linear_result.get)\n",
    "best_acc_linear = SVM_linear_result[best_C_linear]\n",
    "print(best_C_linear, best_acc_linear)"
   ]
  },
  {
   "cell_type": "code",
   "execution_count": 10,
   "metadata": {},
   "outputs": [
    {
     "name": "stdout",
     "output_type": "stream",
     "text": [
      "0.5 0.919\n"
     ]
    }
   ],
   "source": [
    "best_C_rbf = max(SVM_rbf_result, key=SVM_rbf_result.get)\n",
    "best_acc_rbf = SVM_rbf_result[best_C_rbf]\n",
    "print(best_C_rbf, best_acc_rbf)"
   ]
  },
  {
   "cell_type": "code",
   "execution_count": 11,
   "metadata": {},
   "outputs": [],
   "source": [
    "best_SVM_linear = SVC(kernel = 'linear', C = best_C_linear)\n",
    "best_SVM_linear.fit(X_tr, y_tr)\n",
    "best_y_ts_pred_linear = best_SVM_linear.predict(X_ts)"
   ]
  },
  {
   "cell_type": "code",
   "execution_count": 12,
   "metadata": {},
   "outputs": [],
   "source": [
    "best_SVM_rbf = SVC(kernel = 'rbf', C = best_C_rbf)\n",
    "best_SVM_rbf.fit(X_tr, y_tr)\n",
    "best_y_ts_pred_rbf = best_SVM_rbf.predict(X_ts)"
   ]
  },
  {
   "cell_type": "code",
   "execution_count": 13,
   "metadata": {},
   "outputs": [
    {
     "data": {
      "image/png": "[encoded data removed]",
      "text/plain": [
       "<Figure size 1440x360 with 1 Axes>"
      ]
     },
     "metadata": {
      "needs_background": "light"
     },
     "output_type": "display_data"
    }
   ],
   "source": [
    "SVM_linear_result_viz = dict(sorted(SVM_linear_result.items()))\n",
    "plt.figure(figsize=(20,5))\n",
    "val = 1-np.array(list(SVM_linear_result_viz.values()))\n",
    "plt.bar(range(len(SVM_linear_result_viz)), val, align='center')\n",
    "plt.xticks(range(len(SVM_linear_result_viz)), [np.round(i,3) for i in list(SVM_linear_result_viz.keys())])\n",
    "plt.ylim(min(val)-0.01, max(val)+0.001)\n",
    "plt.title('[SVM-Linear] Error Rate by C', size=20)\n",
    "plt.show()"
   ]
  },
  {
   "cell_type": "code",
   "execution_count": 14,
   "metadata": {},
   "outputs": [
    {
     "data": {
      "image/png": "[encoded data removed]",
      "text/plain": [
       "<Figure size 1440x360 with 1 Axes>"
      ]
     },
     "metadata": {
      "needs_background": "light"
     },
     "output_type": "display_data"
    }
   ],
   "source": [
    "SVM_rbf_result_viz = dict(sorted(SVM_rbf_result.items()))\n",
    "plt.figure(figsize=(20,5))\n",
    "val = 1-np.array(list(SVM_rbf_result_viz.values()))\n",
    "plt.bar(range(len(SVM_rbf_result_viz)), val, align='center')\n",
    "plt.xticks(range(len(SVM_rbf_result_viz)), [np.round(i,3) for i in list(SVM_rbf_result_viz.keys())])\n",
    "plt.ylim(min(val)-0.01, max(val)+0.001)\n",
    "plt.title('[SVM-RBF] Error Rate by C', size=20)\n",
    "plt.show()"
   ]
  },
  {
   "cell_type": "code",
   "execution_count": 15,
   "metadata": {},
   "outputs": [],
   "source": [
    "text = f'''Linear Kernel SVM (C={best_C_linear})\n",
    "\n",
    "Confusion Matrix (SVM-linear)\n",
    "-----------------------------\n",
    "{confusion_matrix(y_ts, best_y_ts_pred_linear)}\n",
    "\n",
    "Model Summary (SVM-linear)\n",
    "--------------------------\n",
    "overall accuracy = {np.mean(best_y_ts_pred_linear == y_ts):.3f}\n",
    "\n",
    "\n",
    "RBF Kernel SVM (C={best_C_rbf})\n",
    "\n",
    "Confusion Matrix (SVM-rbf)\n",
    "--------------------------\n",
    "{confusion_matrix(y_ts, best_y_ts_pred_rbf)}\n",
    "\n",
    "Model Summary (SVM-rbf)\n",
    "-----------------------\n",
    "overall accuracy = {np.mean(best_y_ts_pred_rbf == y_ts):.3f}\n",
    "'''"
   ]
  },
  {
   "cell_type": "code",
   "execution_count": 16,
   "metadata": {},
   "outputs": [],
   "source": [
    "file = open(out_name, \"w\") \n",
    "file.write(text)\n",
    "file.close()"
   ]
  },
  {
   "cell_type": "code",
   "execution_count": null,
   "metadata": {},
   "outputs": [],
   "source": []
  }
 ],
 "metadata": {
  "kernelspec": {
   "display_name": "Python 3.9.7 ('base')",
   "language": "python",
   "name": "python3"
  },
  "language_info": {
   "codemirror_mode": {
    "name": "ipython",
    "version": 3
   },
   "file_extension": ".py",
   "mimetype": "text/x-python",
   "name": "python",
   "nbconvert_exporter": "python",
   "pygments_lexer": "ipython3",
   "version": "3.9.7"
  },
  "orig_nbformat": 4,
  "vscode": {
   "interpreter": {
    "hash": "40d3a090f54c6569ab1632332b64b2c03c39dcf918b08424e98f38b5ae0af88f"
   }
  }
 },
 "nbformat": 4,
 "nbformat_minor": 2
}

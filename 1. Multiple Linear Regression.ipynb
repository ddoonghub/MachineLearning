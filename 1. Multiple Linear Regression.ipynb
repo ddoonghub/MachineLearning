{
 "cells": [
  {
   "cell_type": "code",
   "execution_count": 1,
   "id": "0252a25c",
   "metadata": {},
   "outputs": [],
   "source": [
    "import numpy as np\n",
    "import pandas as pd"
   ]
  },
  {
   "cell_type": "code",
   "execution_count": 2,
   "id": "e6745128",
   "metadata": {},
   "outputs": [
    {
     "name": "stdout",
     "output_type": "stream",
     "text": [
      "Enter the name of data file [(ex) harris.dat]: harris.dat\n",
      "Select the data coding format(1 = 'a b c' or 2 = 'a,b,c'): 1\n",
      "Enter the column position of the response variable : [from 1 to p]:1\n",
      "Does the data have column header? (y/n):n\n",
      "Enter the output file name to export [(ex) result.txt]:result.txt\n"
     ]
    }
   ],
   "source": [
    "data_name = input('Enter the name of data file [(ex) harris.dat]: ')\n",
    "coding_fm = int(input(\"Select the data coding format(1 = 'a b c' or 2 = 'a,b,c'): \"))\n",
    "separator_fm = {coding_fm == 1 : ' '}.get(True, \",\")\n",
    "res_pos = int(input('Enter the column position of the response variable : [from 1 to p]:'))\n",
    "header = input('Does the data have column header? (y/n):')\n",
    "if header == 'y':\n",
    "    trdata = pd.read_csv(data_name, sep=separator_fm)\n",
    "else:\n",
    "    trdata = pd.read_csv(data_name, sep=separator_fm, header=None)\n",
    "out_name = input('Enter the output file name to export [(ex) result.txt]:')"
   ]
  },
  {
   "cell_type": "code",
   "execution_count": 3,
   "id": "16573e84",
   "metadata": {},
   "outputs": [],
   "source": [
    "trdata['constant'] = 1\n",
    "trdata = trdata[['constant', 0, 1, 2, 3, 4]]\n",
    "trdata.columns = [0, 1, 2, 3, 4, 5]"
   ]
  },
  {
   "cell_type": "code",
   "execution_count": 4,
   "id": "23f771e6",
   "metadata": {},
   "outputs": [],
   "source": [
    "y = trdata[[res_pos]]\n",
    "x = trdata.drop([res_pos], axis=1)"
   ]
  },
  {
   "cell_type": "code",
   "execution_count": 5,
   "id": "7155aea7",
   "metadata": {},
   "outputs": [],
   "source": [
    "xtx = np.dot(x.T, x)\n",
    "xtx_inv = np.linalg.inv(xtx)\n",
    "xtx_inv_xt = np.dot(xtx_inv, x.T)\n",
    "beta_hat = np.dot(xtx_inv_xt, y)"
   ]
  },
  {
   "cell_type": "code",
   "execution_count": 6,
   "id": "09421164",
   "metadata": {},
   "outputs": [],
   "source": [
    "y_hat = np.dot(x, beta_hat)"
   ]
  },
  {
   "cell_type": "code",
   "execution_count": 7,
   "id": "83f945a5",
   "metadata": {},
   "outputs": [],
   "source": [
    "SST = np.sum((y - y.mean()) ** 2)\n",
    "SSR = np.sum((y - y_hat) ** 2)\n",
    "R_square = 1 - SSR/SST"
   ]
  },
  {
   "cell_type": "code",
   "execution_count": 8,
   "id": "5a6746e0",
   "metadata": {},
   "outputs": [],
   "source": [
    "MSE = np.sum((y_hat - y) ** 2) / len(trdata)"
   ]
  },
  {
   "cell_type": "code",
   "execution_count": 9,
   "id": "917cc785",
   "metadata": {},
   "outputs": [],
   "source": [
    "text = f'''Coefficients\n",
    "------------\n",
    "Constant: {beta_hat[0,0]:.3f}\n",
    "Beta1: {beta_hat[1,0]:.3f}\n",
    "Beta2: {beta_hat[2,0]:.3f}\n",
    "Beta3: {beta_hat[3,0]:.3f}\n",
    "Beta4: {beta_hat[4,0]:.3f}\n",
    "\n",
    "ID, Actual values, Fitted values\n",
    "--------------------------------\n",
    "1, {y.iloc[0,0]}, {y_hat[0, 0]:.1f}\n",
    "2, {y.iloc[1,0]}, {y_hat[1, 0]:.1f}\n",
    "3, {y.iloc[2,0]}, {y_hat[2, 0]:.1f}\n",
    "4, {y.iloc[3,0]}, {y_hat[3, 0]:.1f}\n",
    "5, {y.iloc[4,0]}, {y_hat[4, 0]:.1f}\n",
    "(continue)\n",
    "\n",
    "Model Summary\n",
    "-------------\n",
    "R-square = {R_square[res_pos]:.4f}\n",
    "MSE = {MSE[res_pos]:.3f}\n",
    "'''"
   ]
  },
  {
   "cell_type": "code",
   "execution_count": 10,
   "id": "adfccf29",
   "metadata": {},
   "outputs": [],
   "source": [
    "file = open(out_name, \"w\") \n",
    "file.write(text)\n",
    "file.close()"
   ]
  },
  {
   "cell_type": "code",
   "execution_count": null,
   "id": "ed00d738",
   "metadata": {},
   "outputs": [],
   "source": []
  },
  {
   "cell_type": "code",
   "execution_count": null,
   "id": "afaa951b",
   "metadata": {},
   "outputs": [],
   "source": []
  }
 ],
 "metadata": {
  "kernelspec": {
   "display_name": "Python 3 (ipykernel)",
   "language": "python",
   "name": "python3"
  },
  "language_info": {
   "codemirror_mode": {
    "name": "ipython",
    "version": 3
   },
   "file_extension": ".py",
   "mimetype": "text/x-python",
   "name": "python",
   "nbconvert_exporter": "python",
   "pygments_lexer": "ipython3",
   "version": "3.9.7"
  }
 },
 "nbformat": 4,
 "nbformat_minor": 5
}

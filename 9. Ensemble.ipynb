{
 "cells": [
  {
   "cell_type": "code",
   "execution_count": 1,
   "id": "5eb8e632",
   "metadata": {},
   "outputs": [],
   "source": [
    "import numpy as np\n",
    "import pandas as pd\n",
    "from sklearn.discriminant_analysis import LinearDiscriminantAnalysis\n",
    "from sklearn.metrics import confusion_matrix"
   ]
  },
  {
   "cell_type": "code",
   "execution_count": 2,
   "id": "884583b6",
   "metadata": {},
   "outputs": [],
   "source": [
    "def read_data():\n",
    "    trdata_name = input('Enter the name of train data file [(ex) veh.dat]: ')\n",
    "    tstdata_name = input('Enter the name of test data file [(ex) vehtest.dat]: ')\n",
    "    coding_fm = int(input(\"Select the data coding format(1 = 'a b c' or 2 = 'a,b,c'): \"))\n",
    "    separator_fm = {coding_fm == 1 : ' '}.get(True, \",\")\n",
    "    res_pos = int(input('Enter the column position of the response variable : [from 1 to p]:')) - 1\n",
    "    header = input('Does the data have column header? (y/n):')\n",
    "    \n",
    "    if header == 'y':\n",
    "        trdata = pd.read_csv(trdata_name, sep=separator_fm)\n",
    "        trres_col = trdata.columns[res_pos]\n",
    "        tr_response = trdata[trres_col]\n",
    "        tr_feature = trdata.drop(trres_col, axis = 1)\n",
    "        \n",
    "        tstdata = pd.read_csv(tstdata_name, sep=separator_fm)\n",
    "        tstres_col = tstdata.columns[res_pos]\n",
    "        tst_response = tstdata[tstres_col]\n",
    "        tst_feature = tstdata.drop(tstres_col, axis = 1)\n",
    "    \n",
    "    else:\n",
    "        trdata = pd.read_csv(trdata_name, sep=separator_fm, header=None)\n",
    "        tr_response = trdata[res_pos]\n",
    "        tr_feature = trdata.drop(res_pos, axis = 1)\n",
    "        \n",
    "        tstdata = pd.read_csv(tstdata_name, sep=separator_fm, header=None)\n",
    "        tst_response = tstdata[res_pos]\n",
    "        tst_feature = tstdata.drop(res_pos, axis = 1)\n",
    "        \n",
    "    out_name = input('Enter the output file name to export [(ex) result.txt]:')\n",
    "    return tr_feature, tr_response, tst_feature, tst_response, out_name"
   ]
  },
  {
   "cell_type": "code",
   "execution_count": 3,
   "id": "96a2cf12",
   "metadata": {},
   "outputs": [],
   "source": [
    "class LdaBagging():\n",
    "    def __init__(self):\n",
    "        None\n",
    "    \n",
    "    def fit(self, x, y, tst_x, B = 101):\n",
    "        diff_lst = []\n",
    "        tst_pred_lst = []\n",
    "\n",
    "        for b in range(B):\n",
    "            bootstrap = x.sample(replace=True, frac=1)\n",
    "            bootstrap_idx = bootstrap.index\n",
    "\n",
    "            bootstrap_x = x.iloc[bootstrap_idx, :]\n",
    "            bootstrap_y = y[bootstrap_idx]\n",
    "\n",
    "            oob_x = x.drop(set(bootstrap_idx))\n",
    "            oob_y = y.drop(set(bootstrap_idx))\n",
    "\n",
    "            lda = LinearDiscriminantAnalysis()\n",
    "            lda.fit(bootstrap_x, bootstrap_y)\n",
    "\n",
    "            oob_pred = lda.predict(oob_x)\n",
    "            oob_acc = np.mean(oob_pred == oob_y)\n",
    "            oob_error = 1 - oob_acc\n",
    "\n",
    "            tst_pred = lda.predict(tst_x)\n",
    "            tst_pred_lst.append(tst_pred)\n",
    "\n",
    "            error_lst = []\n",
    "            for i in range(len(oob_x.columns)):\n",
    "                oob_x_copy = oob_x.copy()\n",
    "                oob_x_copy.iloc[:, i] = oob_x_copy.iloc[:, i].sample(frac=1).values\n",
    "\n",
    "                per_pred = lda.predict(oob_x_copy)\n",
    "                per_acc = np.mean(per_pred == oob_y)\n",
    "                per_error = 1 - per_acc\n",
    "                error_lst.append(per_error-oob_error)\n",
    "\n",
    "            diff_lst.append(error_lst)\n",
    "\n",
    "        d = np.mean(diff_lst, axis=0)\n",
    "        sd = np.sqrt(np.sum((np.array(diff_lst) - np.array(d)) ** 2, axis=0) / (B-1))\n",
    "        imp = d/sd\n",
    "        \n",
    "        self.tst_pred_lst = tst_pred_lst\n",
    "        \n",
    "        return imp\n",
    "        \n",
    "    def predict(self, x, B = 101):\n",
    "        tst_pred = []\n",
    "\n",
    "        for j in range(len(x)):\n",
    "            tst_clf_lst = []\n",
    "\n",
    "            for i in range(B):\n",
    "                tst_clf_lst.append(self.tst_pred_lst[i][j])\n",
    "            tst_pred.append(max(tst_clf_lst, key=tst_clf_lst.count))\n",
    "        \n",
    "        self.tst_pred = tst_pred\n",
    "        return self.tst_pred\n",
    "            \n",
    "    def accuracy(self, y):\n",
    "        tst_acc = np.mean(self.tst_pred == y)\n",
    "        return tst_acc"
   ]
  },
  {
   "cell_type": "code",
   "execution_count": 4,
   "id": "7f9550af",
   "metadata": {},
   "outputs": [],
   "source": [
    "class RandomFeatureEnsemble:\n",
    "    def __init__(self):\n",
    "        None\n",
    "        \n",
    "    def get_col_num(self, x):\n",
    "        p = len(x.columns)\n",
    "            \n",
    "        if p % 2 == 0:\n",
    "            m = p/2\n",
    "        else:\n",
    "            m = (p-1)/2\n",
    "        \n",
    "        self.m = m\n",
    "        \n",
    "    def fit(self, x, y, tst_x, B = 101):\n",
    "        diff_lst = []\n",
    "        tst_pred_lst = []\n",
    "\n",
    "        for b in range(B):\n",
    "            rf_tr_x = x.sample(n = int(self.m), axis = 1)\n",
    "            rf_tst_x = tst_x[rf_tr_x.columns]\n",
    "\n",
    "            bootstrap = rf_tr_x.sample(replace=True, frac=1).drop_duplicates()\n",
    "            bootstrap_idx = bootstrap.index\n",
    "\n",
    "            bootstrap_x = rf_tr_x.iloc[bootstrap_idx, :]\n",
    "            bootstrap_y = y[bootstrap_idx]\n",
    "\n",
    "            oob_x = rf_tr_x.drop(set(bootstrap_idx))\n",
    "            oob_y = y.drop(set(bootstrap_idx))\n",
    "\n",
    "            rf_lda = LinearDiscriminantAnalysis()\n",
    "            rf_lda.fit(bootstrap_x, bootstrap_y)\n",
    "\n",
    "            oob_pred = rf_lda.predict(oob_x)\n",
    "            oob_acc = np.mean(oob_pred == oob_y)\n",
    "            oob_error = 1 - oob_acc\n",
    "\n",
    "            tst_pred = rf_lda.predict(rf_tst_x)\n",
    "            tst_pred_lst.append(tst_pred)\n",
    "\n",
    "            error_lst = []\n",
    "            diff = np.zeros(len(x.columns))\n",
    "\n",
    "            for i in range(len(oob_x.columns)):\n",
    "                oob_x_copy = oob_x.copy()\n",
    "                oob_x_copy.iloc[:, i] = oob_x_copy.iloc[:, i].sample(frac=1).values\n",
    "\n",
    "                per_pred = rf_lda.predict(oob_x_copy)\n",
    "                per_acc = np.mean(oob_y == per_pred)\n",
    "                per_error = 1-per_acc\n",
    "                error_lst.append(per_error-oob_error)\n",
    "\n",
    "            diff[oob_x_copy.columns] = error_lst\n",
    "            diff_lst.append(diff)\n",
    "        \n",
    "        d = np.mean(diff_lst, axis=0)\n",
    "        sd = np.sqrt(np.sum((np.array(diff_lst) - np.array(d)) ** 2, axis=0) / (B-1))\n",
    "        imp = d/sd\n",
    "        \n",
    "        self.tst_pred_lst = tst_pred_lst\n",
    "        \n",
    "        return imp\n",
    "        \n",
    "    def predict(self, x, B = 101):\n",
    "        tst_pred = []\n",
    "\n",
    "        for j in range(len(x)):\n",
    "            tst_clf_lst = []\n",
    "\n",
    "            for i in range(B):\n",
    "                tst_clf_lst.append(self.tst_pred_lst[i][j])\n",
    "            tst_pred.append(max(tst_clf_lst, key=tst_clf_lst.count))\n",
    "            \n",
    "        self.tst_pred = tst_pred\n",
    "        return self.tst_pred\n",
    "        \n",
    "    def accuracy(self, y):\n",
    "        tst_acc = np.mean(self.tst_pred == y)\n",
    "        return tst_acc"
   ]
  },
  {
   "cell_type": "code",
   "execution_count": null,
   "id": "853c16f5",
   "metadata": {},
   "outputs": [],
   "source": []
  },
  {
   "cell_type": "code",
   "execution_count": 5,
   "id": "2fa0d1af",
   "metadata": {},
   "outputs": [
    {
     "name": "stdout",
     "output_type": "stream",
     "text": [
      "Enter the name of train data file [(ex) veh.dat]: veh.dat\n",
      "Enter the name of test data file [(ex) vehtest.dat]: vehtest.dat\n",
      "Select the data coding format(1 = 'a b c' or 2 = 'a,b,c'): 2\n",
      "Enter the column position of the response variable : [from 1 to p]:19\n",
      "Does the data have column header? (y/n):n\n",
      "Enter the output file name to export [(ex) result.txt]:result.txt\n"
     ]
    }
   ],
   "source": [
    "tr_x, tr_y, tst_x, tst_y, out_name = read_data()"
   ]
  },
  {
   "cell_type": "code",
   "execution_count": null,
   "id": "f9540c41",
   "metadata": {},
   "outputs": [],
   "source": []
  },
  {
   "cell_type": "code",
   "execution_count": 6,
   "id": "c1104661",
   "metadata": {},
   "outputs": [],
   "source": [
    "bag = LdaBagging()"
   ]
  },
  {
   "cell_type": "code",
   "execution_count": 7,
   "id": "cc953d87",
   "metadata": {},
   "outputs": [],
   "source": [
    "bag_var_imp = bag.fit(tr_x, tr_y, tst_x)"
   ]
  },
  {
   "cell_type": "code",
   "execution_count": 8,
   "id": "3217cd52",
   "metadata": {},
   "outputs": [],
   "source": [
    "bag_pred = bag.predict(tst_x)"
   ]
  },
  {
   "cell_type": "code",
   "execution_count": 9,
   "id": "028eee51",
   "metadata": {},
   "outputs": [],
   "source": [
    "bag_acc = bag.accuracy(tst_y)"
   ]
  },
  {
   "cell_type": "code",
   "execution_count": null,
   "id": "5e8e4df1",
   "metadata": {},
   "outputs": [],
   "source": []
  },
  {
   "cell_type": "code",
   "execution_count": 10,
   "id": "feb8fd64",
   "metadata": {},
   "outputs": [],
   "source": [
    "rfe = RandomFeatureEnsemble()"
   ]
  },
  {
   "cell_type": "code",
   "execution_count": 11,
   "id": "14b7f912",
   "metadata": {},
   "outputs": [],
   "source": [
    "rfe.get_col_num(tr_x)"
   ]
  },
  {
   "cell_type": "code",
   "execution_count": 12,
   "id": "2b7a478a",
   "metadata": {},
   "outputs": [],
   "source": [
    "rfe_var_imp = rfe.fit(tr_x, tr_y, tst_x)"
   ]
  },
  {
   "cell_type": "code",
   "execution_count": 13,
   "id": "c4d29f9e",
   "metadata": {},
   "outputs": [],
   "source": [
    "rfe_pred = rfe.predict(tst_x)"
   ]
  },
  {
   "cell_type": "code",
   "execution_count": 14,
   "id": "6672bcc2",
   "metadata": {},
   "outputs": [],
   "source": [
    "rfe_acc = rfe.accuracy(tst_y)"
   ]
  },
  {
   "cell_type": "code",
   "execution_count": null,
   "id": "44d6b5d3",
   "metadata": {},
   "outputs": [],
   "source": []
  },
  {
   "cell_type": "code",
   "execution_count": 15,
   "id": "fa933f95",
   "metadata": {},
   "outputs": [],
   "source": [
    "text = f'''LDA - bagging\n",
    "\n",
    "variable Importance:\n",
    "'''"
   ]
  },
  {
   "cell_type": "code",
   "execution_count": 16,
   "id": "2fe089b0",
   "metadata": {},
   "outputs": [],
   "source": [
    "for i in range(len(tr_x.columns)):\n",
    "    text += f'X{i+1}: {bag_var_imp[i]:.3f}\\n'"
   ]
  },
  {
   "cell_type": "code",
   "execution_count": 17,
   "id": "1b6249ba",
   "metadata": {},
   "outputs": [],
   "source": [
    "text += f'''\n",
    "Confusion Matrix (LDA - bagging)\n",
    "--------------------------------\n",
    "{confusion_matrix(tst_y, bag_pred)}\n",
    "\n",
    "Model Summary (LDA - bagging)\n",
    "-----------------------------\n",
    "overall accuracy = {bag_acc:.3f}\n",
    "'''"
   ]
  },
  {
   "cell_type": "code",
   "execution_count": 18,
   "id": "0bfafdc9",
   "metadata": {},
   "outputs": [],
   "source": [
    "text += f'''\n",
    "LDA - random feature ensemble\n",
    "\n",
    "variable Importance:\n",
    "'''"
   ]
  },
  {
   "cell_type": "code",
   "execution_count": 19,
   "id": "006fb94a",
   "metadata": {},
   "outputs": [],
   "source": [
    "for i in range(len(tr_x.columns)):\n",
    "    text += f'X{i+1}: {rfe_var_imp[i]:.3f}\\n'"
   ]
  },
  {
   "cell_type": "code",
   "execution_count": 20,
   "id": "b28891c1",
   "metadata": {},
   "outputs": [],
   "source": [
    "text += f'''\n",
    "Confusion Matrix (LDA - random feature)\n",
    "---------------------------------------\n",
    "{confusion_matrix(tst_y, rfe_pred)}\n",
    "\n",
    "Model Summary (LDA - random feature)\n",
    "-----------------------------\n",
    "overall accuracy = {rfe_acc:.3f}\n",
    "'''"
   ]
  },
  {
   "cell_type": "code",
   "execution_count": 21,
   "id": "48ba0bcb",
   "metadata": {},
   "outputs": [],
   "source": [
    "file = open(out_name, \"w\") \n",
    "file.write(text)\n",
    "file.close()"
   ]
  },
  {
   "cell_type": "code",
   "execution_count": null,
   "id": "4fc24064",
   "metadata": {},
   "outputs": [],
   "source": []
  }
 ],
 "metadata": {
  "kernelspec": {
   "display_name": "Python 3 (ipykernel)",
   "language": "python",
   "name": "python3"
  },
  "language_info": {
   "codemirror_mode": {
    "name": "ipython",
    "version": 3
   },
   "file_extension": ".py",
   "mimetype": "text/x-python",
   "name": "python",
   "nbconvert_exporter": "python",
   "pygments_lexer": "ipython3",
   "version": "3.9.7"
  }
 },
 "nbformat": 4,
 "nbformat_minor": 5
}
